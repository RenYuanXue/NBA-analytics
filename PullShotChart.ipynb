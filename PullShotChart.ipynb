{
 "cells": [
  {
   "cell_type": "markdown",
   "metadata": {},
   "source": [
    "### Script for pulling the shot chart data\n",
    "This script will take the \"box_score_link.txt\" file as input go over each link generating the shot chart data as follow:\n",
    "\n",
    "| Player key | qtr | Make/Miss | Distance from offensive baseline (px) | Distance from left baseline (px) | Time remaining in qtr| Distance to hoop (ft) | game score after shot | player's team | away team | home team | season year | \n",
    "|------|------|------|------|------|------|------|------|------|------|------|------|\n",
    "| jamesle01 | 1| make | 312 | 414 | MM:SS.0 | 24 | 3-2| Chicago| CHI | ORL| YYYY | \n",
    "\n",
    "This will sent to a csv file with each player corresponding to a player from a particular game ordered by quarters.\n",
    "\n",
    "\n",
    "**Note:** \n",
    "- Not all shot locations for a given game are recorded. In future may get estimates for each year the number of shot locations/FGA.\n",
    "- First link with shot chart data: https://www.basketball-reference.com/boxscores/199611010BOS.html\n"
   ]
  },
  {
   "cell_type": "code",
   "execution_count": null,
   "metadata": {},
   "outputs": [],
   "source": [
    "!pip install --upgrade pip\n",
    "!pip install lxml"
   ]
  },
  {
   "cell_type": "markdown",
   "metadata": {},
   "source": [
    "Code below for importing required packages"
   ]
  },
  {
   "cell_type": "code",
   "execution_count": null,
   "metadata": {},
   "outputs": [],
   "source": [
    "import requests\n",
    "from lxml import html\n",
    "import re"
   ]
  },
  {
   "cell_type": "markdown",
   "metadata": {},
   "source": [
    "Code below are functions for extracting the shot chart data"
   ]
  },
  {
   "cell_type": "code",
   "execution_count": null,
   "metadata": {},
   "outputs": [],
   "source": [
    "def go_to_shot_chart(boxScoreLink):\n",
    "    '''\n",
    "    return list with path to shot chart.\n",
    "    '''\n",
    "    page = requests.get(boxScoreLink)\n",
    "    tree = html.fromstring(page.content)\n",
    "    # if empty list has no shot chart\n",
    "    finds = tree.xpath('//*[@class=\"filter\"]/div/a/@href')\n",
    "    return [l for l in finds if bool(re.search('shot-chart',l))]\n",
    "\n",
    "\n",
    "def clean_tip_string(string):\n",
    "    '''\n",
    "    takes string from shot chart of tip = \"TEXT\"\n",
    "    i.e. TEXT = '1st quarter, 11:25.0 remaining<br>Darrell Armstrong made 2-pointer from 17 ft<br>Orlando now tied 2-2'\n",
    "    Extract:\n",
    "    Time remaining\n",
    "    Distance to hoop\n",
    "    game score\n",
    "    player's team\n",
    "    return them in a list [time, dist, game score, team]\n",
    "    '''\n",
    "    time_remain = string.split()[2]\n",
    "    game_score = string.split()[-1]\n",
    "    shot_dist = re.search('(?<=from ).*(?=ft)', string)[0].strip()\n",
    "    players_team = string.split('<br>')[-1].split()[0]\n",
    "    return [time_remain, shot_dist, game_score,players_team]\n",
    "\n",
    "def extract_shot_data(shotChartLink):\n",
    "    '''\n",
    "    return data pulled from the shot shart list of lists\n",
    "    [[playerkey,...]]\n",
    "    '''\n",
    "    page = requests.get(shotChartLink)\n",
    "    tree = html.fromstring(page.content)\n",
    "\n",
    "    # create [player key, qtr, make/miss]\n",
    "    # ['tooltip', 'q-1', 'p-armstda01', 'make']\n",
    "    shot_data = [] # player metadata\n",
    "    for md in tree.xpath('//*[@class=\"shot-area\"]/div/@class'):\n",
    "        temp = md.split()\n",
    "        shot_data.append([temp[2][2:],int(temp[1][-1]),temp[3]])\n",
    "\n",
    "    # ['TOP','LEFT'] px from there\n",
    "    shoot_pos = [re.findall('\\d+',pos) for pos in tree.xpath('//*[@class=\"shot-area\"]/div/@style')]\n",
    "\n",
    "    #[time(minutes:seconds.0), dist shot (ft), game score]\n",
    "    game_data = [clean_tip_string(string) for string in tree.xpath('//*[@class=\"shot-area\"]/div/@tip')]\n",
    "    \n",
    "    #Extract year is number that represents the season. so 1968-1969 -> 1969.\n",
    "    temp = tree.xpath('//*[@class=\"scorebox\"]/div/div/strong/a/@href')\n",
    "    year = temp[0].split('/')[-1][:4]\n",
    "    team_1 = temp[0].split('/')[2]\n",
    "    team_2 = temp[1].split('/')[2]\n",
    "    #Create output [[features],...,]\n",
    "    \n",
    "    output = []\n",
    "    for i in range(0,len(shoot_pos)):\n",
    "        # [player key, qtr, make/miss, TOP_dist, LEFT_dist, time remaining, dist shot,\n",
    "        # game score, players_team ,team_1=away, team_2=home, year]\n",
    "        output.append(shot_data[i] + shoot_pos[i] + game_data[i] + [team_1, team_2, year])\n",
    "    \n",
    "    return output\n",
    "\n",
    "def get_single_shot_chart_data(boxScoreLink):\n",
    "    '''\n",
    "    Get all shot chart data for a single game.\n",
    "    '''\n",
    "    base_path = \"https://www.basketball-reference.com\"\n",
    "    shot_path = go_to_shot_chart(boxScoreLink)\n",
    "    \n",
    "    if len(shot_path) == 1:\n",
    "        shotChartLink = base_path + shot_path[0] # link to path\n",
    "        return (extract_shot_data(shotChartLink))\n",
    "    else:\n",
    "        return([]) # empty list if no shot chart available\n",
    "    \n",
    "    "
   ]
  },
  {
   "cell_type": "code",
   "execution_count": null,
   "metadata": {},
   "outputs": [],
   "source": [
    "# Use this cell for testing specific boxscore links.\n",
    "\n",
    "test_link = 'https://www.basketball-reference.com/boxscores/199911020CHH.html' # Designed strongly based on this link\n",
    "#test_link = 'https://www.basketball-reference.com/boxscores/196910140NYK.html' # boxscore without a shot chart\n",
    "\n",
    "# Get all shot chart data for a single game based on a boxscore link.\n",
    "get_single_shot_chart_data(test_link)[:1]"
   ]
  },
  {
   "cell_type": "code",
   "execution_count": null,
   "metadata": {},
   "outputs": [],
   "source": [
    "# This was just used for finding the year when shot charts begin\n",
    "import timeit as tt\n",
    "boxScoreLinks = open(\"box_score_links.txt\").readlines()\n",
    "\n",
    "start = tt.default_timer()\n",
    "for i,link in enumerate(boxScoreLinks[30500:]): # try some subset\n",
    "    \n",
    "    data = get_single_shot_chart_data(link.strip())\n",
    "    if i%100 == 0:\n",
    "        print('Took {} seconds to process up to link {}.'.format(tt.default_timer() - start,i+1))\n",
    "    else:\n",
    "        pass\n",
    "    \n",
    "    if len(data) >= 1:\n",
    "        print(link)\n",
    "        break\n",
    "    else:\n",
    "        continue"
   ]
  },
  {
   "cell_type": "markdown",
   "metadata": {},
   "source": [
    "### Next is to add code to perform tasks in SPARK"
   ]
  }
 ],
 "metadata": {
  "kernelspec": {
   "display_name": "Python 3",
   "language": "python",
   "name": "python3"
  },
  "language_info": {
   "codemirror_mode": {
    "name": "ipython",
    "version": 3
   },
   "file_extension": ".py",
   "mimetype": "text/x-python",
   "name": "python",
   "nbconvert_exporter": "python",
   "pygments_lexer": "ipython3",
   "version": "3.7.4"
  }
 },
 "nbformat": 4,
 "nbformat_minor": 2
}
