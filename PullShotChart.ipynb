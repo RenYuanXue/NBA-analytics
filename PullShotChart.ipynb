{
  "nbformat": 4,
  "nbformat_minor": 0,
  "metadata": {
    "kernelspec": {
      "display_name": "Python 3",
      "language": "python",
      "name": "python3"
    },
    "language_info": {
      "codemirror_mode": {
        "name": "ipython",
        "version": 3
      },
      "file_extension": ".py",
      "mimetype": "text/x-python",
      "name": "python",
      "nbconvert_exporter": "python",
      "pygments_lexer": "ipython3",
      "version": "3.7.4"
    },
    "colab": {
      "name": "PullShotChart.ipynb",
      "provenance": [],
      "toc_visible": true
    }
  },
  "cells": [
    {
      "cell_type": "markdown",
      "metadata": {
        "id": "oGa5ksjwCsYG"
      },
      "source": [
        "### Script for pulling the shot chart data\n",
        "This script will take the \"box_score_link.txt\" file as input go over each link generating the shot chart data as follow:\n",
        "\n",
        "| Player key | qtr | Make/Miss | Distance from offensive baseline (px) | Distance from left baseline (px) | Time remaining in qtr| Distance to hoop (ft) | game score after shot | player's team | away team | home team | season year | \n",
        "|------|------|------|------|------|------|------|------|------|------|------|------|\n",
        "| jamesle01 | 1| make | 312 | 414 | MM:SS.0 | 24 | 3-2| Chicago| CHI | ORL| YYYY | \n",
        "\n",
        "This will sent to a csv file with each player corresponding to a player from a particular game ordered by quarters.\n",
        "This script finished by saving all the rows in the style as above to series of text files using \"saveAsTextFile()\".\n",
        "\n",
        "The first \n",
        "\n",
        "\n",
        "**Note:** \n",
        "- Not all shot locations for a given game are recorded. In future may get estimates for each year the number of shot locations/FGA.\n",
        "- First link with shot chart data: https://www.basketball-reference.com/boxscores/199611010BOS.html\n",
        "- This is the 31847 link.\n"
      ]
    },
    {
      "cell_type": "code",
      "metadata": {
        "colab": {
          "base_uri": "https://localhost:8080/"
        },
        "id": "x74YKIqhCsYH",
        "outputId": "61670433-509c-4490-d4f7-9655bdc11601"
      },
      "source": [
        "!pip install --upgrade pip\n",
        "!pip install lxml"
      ],
      "execution_count": 1,
      "outputs": [
        {
          "output_type": "stream",
          "text": [
            "Collecting pip\n",
            "\u001b[?25l  Downloading https://files.pythonhosted.org/packages/ab/11/2dc62c5263d9eb322f2f028f7b56cd9d096bb8988fcf82d65fa2e4057afe/pip-20.3.1-py2.py3-none-any.whl (1.5MB)\n",
            "\u001b[K     |████████████████████████████████| 1.5MB 5.9MB/s \n",
            "\u001b[?25hInstalling collected packages: pip\n",
            "  Found existing installation: pip 19.3.1\n",
            "    Uninstalling pip-19.3.1:\n",
            "      Successfully uninstalled pip-19.3.1\n",
            "Successfully installed pip-20.3.1\n",
            "Requirement already satisfied: lxml in /usr/local/lib/python3.6/dist-packages (4.2.6)\n"
          ],
          "name": "stdout"
        }
      ]
    },
    {
      "cell_type": "code",
      "metadata": {
        "colab": {
          "base_uri": "https://localhost:8080/"
        },
        "id": "OG6-qrx1VI8_",
        "outputId": "7d1bc6b6-73d8-4df7-c916-5bbf78308424"
      },
      "source": [
        "%%shell\n",
        "apt-get update -qq > /dev/null\n",
        "apt-get install openjdk-8-jdk-headless -qq > /dev/null\n",
        "wget -q https://downloads.apache.org/spark/spark-2.4.7/spark-2.4.7-bin-hadoop2.7.tgz\n",
        "tar xf spark-2.4.7-bin-hadoop2.7.tgz\n",
        "pip install -q findspark"
      ],
      "execution_count": 2,
      "outputs": [
        {
          "output_type": "execute_result",
          "data": {
            "text/plain": [
              ""
            ]
          },
          "metadata": {
            "tags": []
          },
          "execution_count": 2
        }
      ]
    },
    {
      "cell_type": "code",
      "metadata": {
        "colab": {
          "base_uri": "https://localhost:8080/"
        },
        "id": "jiMM9WV5VL7S",
        "outputId": "0ae3793a-fddb-4722-f298-93218210b63b"
      },
      "source": [
        "%%shell\n",
        "pip install --upgrade pip\n",
        "pip install lxml\n",
        "git clone https://github.com/pmcwhannel/NBA-analytics.git\n",
        "mv NBA-analytics NBAanalytics # So importing functions is easy"
      ],
      "execution_count": 3,
      "outputs": [
        {
          "output_type": "stream",
          "text": [
            "Requirement already satisfied: pip in /usr/local/lib/python3.6/dist-packages (20.3.1)\n",
            "Requirement already satisfied: lxml in /usr/local/lib/python3.6/dist-packages (4.2.6)\n",
            "Cloning into 'NBA-analytics'...\n",
            "remote: Enumerating objects: 29, done.\u001b[K\n",
            "remote: Counting objects: 100% (29/29), done.\u001b[K\n",
            "remote: Compressing objects: 100% (25/25), done.\u001b[K\n",
            "remote: Total 29 (delta 9), reused 15 (delta 3), pack-reused 0\u001b[K\n",
            "Unpacking objects: 100% (29/29), done.\n"
          ],
          "name": "stdout"
        },
        {
          "output_type": "execute_result",
          "data": {
            "text/plain": [
              ""
            ]
          },
          "metadata": {
            "tags": []
          },
          "execution_count": 3
        }
      ]
    },
    {
      "cell_type": "code",
      "metadata": {
        "id": "KBvy_HH3VOeM"
      },
      "source": [
        "# Have to rename drive to get rid of NBA-analytics -> NBAanalytics\n",
        "import os\n",
        "os.environ[\"JAVA_HOME\"] = \"/usr/lib/jvm/java-8-openjdk-amd64\"\n",
        "os.environ[\"SPARK_HOME\"] = \"/content/spark-2.4.7-bin-hadoop2.7\"\n",
        "\n",
        "import findspark\n",
        "findspark.init()\n",
        "\n",
        "from pyspark import SparkContext\n",
        "sc = SparkContext(appName=\"YourTest\", master=\"local[*]\")"
      ],
      "execution_count": 4,
      "outputs": []
    },
    {
      "cell_type": "markdown",
      "metadata": {
        "id": "SccuEwxECsYH"
      },
      "source": [
        "Code below for importing required packages"
      ]
    },
    {
      "cell_type": "code",
      "metadata": {
        "id": "KcpCkYNxCsYH"
      },
      "source": [
        "import requests\n",
        "from lxml import html\n",
        "import re"
      ],
      "execution_count": 5,
      "outputs": []
    },
    {
      "cell_type": "markdown",
      "metadata": {
        "id": "4LtZrbEcCsYH"
      },
      "source": [
        "Code below are functions for extracting the shot chart data"
      ]
    },
    {
      "cell_type": "code",
      "metadata": {
        "id": "6MQO6P8NCsYH"
      },
      "source": [
        "def go_to_shot_chart(boxScoreLink):\n",
        "    '''\n",
        "    return list with path to shot chart.\n",
        "    '''\n",
        "    page = requests.get(boxScoreLink)\n",
        "    tree = html.fromstring(page.content)\n",
        "    # if empty list has no shot chart\n",
        "    finds = tree.xpath('//*[@class=\"filter\"]/div/a/@href')\n",
        "    return [l for l in finds if bool(re.search('shot-chart',l))]\n",
        "\n",
        "\n",
        "def clean_tip_string(string):\n",
        "    '''\n",
        "    takes string from shot chart of tip = \"TEXT\"\n",
        "    i.e. TEXT = '1st quarter, 11:25.0 remaining<br>Darrell Armstrong made 2-pointer from 17 ft<br>Orlando now tied 2-2'\n",
        "    Extract:\n",
        "    Time remaining\n",
        "    Distance to hoop\n",
        "    game score\n",
        "    player's team\n",
        "    return them in a list [time, dist, game score, team]\n",
        "    '''\n",
        "    time_remain = string.split()[2]\n",
        "    game_score = string.split()[-1]\n",
        "    shot_dist = re.search('(?<=from ).*(?=ft)', string)[0].strip()\n",
        "    players_team = string.split('<br>')[-1].split()[0]\n",
        "    return [time_remain, shot_dist, game_score,players_team]\n",
        "\n",
        "def extract_shot_data(shotChartLink):\n",
        "    '''\n",
        "    return data pulled from the shot shart list of lists\n",
        "    [[playerkey,...]]\n",
        "    '''\n",
        "    page = requests.get(shotChartLink)\n",
        "    tree = html.fromstring(page.content)\n",
        "\n",
        "    # create [player key, qtr, make/miss]\n",
        "    # ['tooltip', 'q-1', 'p-armstda01', 'make']\n",
        "    shot_data = [] # player metadata\n",
        "    for md in tree.xpath('//*[@class=\"shot-area\"]/div/@class'):\n",
        "        temp = md.split()\n",
        "        shot_data.append([temp[2][2:],int(temp[1][-1]),temp[3]])\n",
        "\n",
        "    # ['TOP','LEFT'] px from there\n",
        "    shoot_pos = [re.findall('\\d+',pos) for pos in tree.xpath('//*[@class=\"shot-area\"]/div/@style')]\n",
        "\n",
        "    #[time(minutes:seconds.0), dist shot (ft), game score]\n",
        "    game_data = [clean_tip_string(string) for string in tree.xpath('//*[@class=\"shot-area\"]/div/@tip')]\n",
        "    \n",
        "    # Extract year is number that represents the season. so 1968-1969 -> 1969.\n",
        "    temp = tree.xpath('//*[@class=\"scorebox\"]/div/div/strong/a/@href')\n",
        "    year = temp[0].split('/')[-1][:4]\n",
        "    team_1 = temp[0].split('/')[2]\n",
        "    team_2 = temp[1].split('/')[2]\n",
        "    # Create output [[features],...,]\n",
        "    \n",
        "    output = []\n",
        "    for i in range(0,len(shoot_pos)):\n",
        "        # [player key, qtr, make/miss, TOP_dist, LEFT_dist, time remaining, dist shot,\n",
        "        # game score, players_team ,team_1=away, team_2=home, year]\n",
        "        output.append(shot_data[i] + shoot_pos[i] + game_data[i] + [team_1, team_2, year])\n",
        "    \n",
        "    return output\n",
        "\n",
        "def get_single_shot_chart_data(boxScoreLink):\n",
        "    '''\n",
        "    Get all shot chart data for a single game.\n",
        "    '''\n",
        "    base_path = \"https://www.basketball-reference.com\"\n",
        "    shot_path = go_to_shot_chart(boxScoreLink)\n",
        "    \n",
        "    if len(shot_path) == 1:\n",
        "        shotChartLink = base_path + shot_path[0] # link to path\n",
        "        return (extract_shot_data(shotChartLink))\n",
        "    else:\n",
        "        return([]) # empty list if no shot chart available\n",
        "    \n",
        "    "
      ],
      "execution_count": 6,
      "outputs": []
    },
    {
      "cell_type": "code",
      "metadata": {
        "colab": {
          "base_uri": "https://localhost:8080/"
        },
        "id": "lW-KDfPLCsYH",
        "outputId": "1c8a89c0-a15c-491a-e306-91980e7209c1"
      },
      "source": [
        "# Use this cell for testing specific boxscore links.\n",
        "\n",
        "test_link = 'https://www.basketball-reference.com/boxscores/199911020CHH.html' # Designed strongly based on this link\n",
        "#test_link = 'https://www.basketball-reference.com/boxscores/196910140NYK.html' # boxscore without a shot chart\n",
        "\n",
        "# Get all shot chart data for a single game based on a boxscore link.\n",
        "get_single_shot_chart_data(test_link)[:1]"
      ],
      "execution_count": 13,
      "outputs": [
        {
          "output_type": "execute_result",
          "data": {
            "text/plain": [
              "[['armstda01',\n",
              "  1,\n",
              "  'make',\n",
              "  '199',\n",
              "  '314',\n",
              "  '11:25.0',\n",
              "  '17',\n",
              "  '2-2',\n",
              "  'Orlando',\n",
              "  'ORL',\n",
              "  'CHH',\n",
              "  '2000']]"
            ]
          },
          "metadata": {
            "tags": []
          },
          "execution_count": 13
        }
      ]
    },
    {
      "cell_type": "code",
      "metadata": {
        "colab": {
          "base_uri": "https://localhost:8080/"
        },
        "id": "WTkJGxweEB1r",
        "outputId": "6a21d447-9316-4bc7-e0a9-b7c83d786d7d"
      },
      "source": [
        "!wget https://raw.githubusercontent.com/pmcwhannel/NBA-analytics/main/box_score_links.txt"
      ],
      "execution_count": 7,
      "outputs": [
        {
          "output_type": "stream",
          "text": [
            "--2020-12-04 01:40:33--  https://raw.githubusercontent.com/pmcwhannel/NBA-analytics/main/box_score_links.txt\n",
            "Resolving raw.githubusercontent.com (raw.githubusercontent.com)... 151.101.0.133, 151.101.64.133, 151.101.128.133, ...\n",
            "Connecting to raw.githubusercontent.com (raw.githubusercontent.com)|151.101.0.133|:443... connected.\n",
            "HTTP request sent, awaiting response... 200 OK\n",
            "Length: 4036305 (3.8M) [text/plain]\n",
            "Saving to: ‘box_score_links.txt’\n",
            "\n",
            "box_score_links.txt 100%[===================>]   3.85M  19.5MB/s    in 0.2s    \n",
            "\n",
            "2020-12-04 01:40:34 (19.5 MB/s) - ‘box_score_links.txt’ saved [4036305/4036305]\n",
            "\n"
          ],
          "name": "stdout"
        }
      ]
    },
    {
      "cell_type": "markdown",
      "metadata": {
        "id": "gYVc0bSHWV-W"
      },
      "source": [
        "### Code to find first game with shot chart data"
      ]
    },
    {
      "cell_type": "code",
      "metadata": {
        "colab": {
          "base_uri": "https://localhost:8080/"
        },
        "id": "WNRWIk2VUuKh",
        "outputId": "34cf39b3-d7ee-4e0d-8af0-6462033e14f1"
      },
      "source": [
        "# This was just used for finding the year when shot charts begin\n",
        "# 30500 + 1347= first index shot chart index....\n",
        "import timeit as tt\n",
        "boxScoreLinks = open(\"box_score_links.txt\").readlines()\n",
        "\n",
        "start = tt.default_timer()\n",
        "for i,link in enumerate(boxScoreLinks[30500:]): # try some subset\n",
        "    \n",
        "    data = get_single_shot_chart_data(link.strip())\n",
        "    if i%100 == 0:\n",
        "        print('Took {} seconds to process up to link {}.'.format(tt.default_timer() - start,i+1))\n",
        "    else:\n",
        "        pass\n",
        "    \n",
        "    if len(data) >= 1:\n",
        "        print(link)\n",
        "        break\n",
        "    else:\n",
        "        continue\n",
        "print(30500 + i,data)"
      ],
      "execution_count": 8,
      "outputs": [
        {
          "output_type": "stream",
          "text": [
            "Took 0.20113216000001444 seconds to process up to link 1.\n",
            "Took 16.981286057000005 seconds to process up to link 101.\n",
            "Took 32.63533305300001 seconds to process up to link 201.\n",
            "Took 47.62389157800001 seconds to process up to link 301.\n",
            "Took 64.575955583 seconds to process up to link 401.\n",
            "Took 80.58402145500003 seconds to process up to link 501.\n",
            "Took 97.35602070200002 seconds to process up to link 601.\n",
            "Took 113.420051172 seconds to process up to link 701.\n",
            "Took 130.030856993 seconds to process up to link 801.\n",
            "Took 146.11860836800003 seconds to process up to link 901.\n",
            "Took 164.358795564 seconds to process up to link 1001.\n",
            "Took 179.921082033 seconds to process up to link 1101.\n",
            "Took 196.35542335399998 seconds to process up to link 1201.\n",
            "Took 211.840988976 seconds to process up to link 1301.\n",
            "https://www.basketball-reference.com/boxscores/199611010BOS.html\n",
            "\n",
            "31847 [['jordami01', 1, 'miss', '198', '285', '11:06.0', '15', '3-2', 'Chicago', 'CHI', 'BOS', '1997'], ['pippesc01', 1, 'make', '125', '228', '9:59.0', '8', '9-4', 'Chicago', 'CHI', 'BOS', '1997'], ['harpero01', 1, 'miss', '151', '445', '8:51.0', '22', '9-7', 'Chicago', 'CHI', 'BOS', '1997'], ['pippesc01', 1, 'make', '218', '304', '8:46.0', '18', '11-7', 'Chicago', 'CHI', 'BOS', '1997'], ['jordami01', 1, 'miss', '136', '9', '7:01.0', '24', '11-15', 'Chicago', 'CHI', 'BOS', '1997'], ['pippesc01', 1, 'miss', '30', '473', '5:35.0', '23', '11-17', 'Chicago', 'CHI', 'BOS', '1997'], ['jordami01', 1, 'make', '158', '354', '5:00.0', '16', '13-17', 'Chicago', 'CHI', 'BOS', '1997'], ['jordami01', 1, 'make', '160', '107', '3:53.0', '17', '17-17', 'Chicago', 'CHI', 'BOS', '1997'], ['jordami01', 1, 'miss', '49', '473', '2:29.0', '23', '19-21', 'Chicago', 'CHI', 'BOS', '1997'], ['pippesc01', 1, 'make', '58', '471', '1:55.0', '23', '22-23', 'Chicago', 'CHI', 'BOS', '1997'], ['kukocto01', 1, 'make', '12', '436', '1:15.0', '20', '24-26', 'Chicago', 'CHI', 'BOS', '1997'], ['jordami01', 2, 'make', '128', '135', '10:36.0', '13', '31-31', 'Chicago', 'CHI', 'BOS', '1997'], ['jordami01', 2, 'make', '171', '347', '10:07.0', '16', '33-33', 'Chicago', 'CHI', 'BOS', '1997'], ['kukocto01', 2, 'miss', '34', '467', '9:29.0', '22', '33-36', 'Chicago', 'CHI', 'BOS', '1997'], ['jordami01', 2, 'miss', '147', '5', '2:22.0', '25', '42-53', 'Chicago', 'CHI', 'BOS', '1997'], ['rodmade01', 2, 'make', '21', '425', '1:19.0', '19', '46-55', 'Chicago', 'CHI', 'BOS', '1997'], ['jordami01', 2, 'make', '121', '235', '0:55.0', '7', '48-57', 'Chicago', 'CHI', 'BOS', '1997'], ['buechju01', 2, 'miss', '34', '471', '0:01.0', '23', '48-59', 'Chicago', 'CHI', 'BOS', '1997'], ['longllu01', 3, 'make', '190', '237', '11:27.0', '14', '50-59', 'Chicago', 'CHI', 'BOS', '1997'], ['pippesc01', 3, 'make', '184', '319', '10:16.0', '16', '53-59', 'Chicago', 'CHI', 'BOS', '1997'], ['wennibi01', 3, 'make', '23', '334', '4:18.0', '10', '72-67', 'Chicago', 'CHI', 'BOS', '1997'], ['wennibi01', 3, 'make', '151', '109', '3:44.0', '17', '74-69', 'Chicago', 'CHI', 'BOS', '1997'], ['jordami01', 3, 'miss', '201', '430', '0:00.0', '24', '80-77', 'Chicago', 'CHI', 'BOS', '1997'], ['kukocto01', 4, 'miss', '184', '434', '11:18.0', '23', '82-79', 'Chicago', 'CHI', 'BOS', '1997'], ['jordami01', 4, 'miss', '197', '42', '10:34.0', '24', '82-80', 'Chicago', 'CHI', 'BOS', '1997'], ['jordami01', 4, 'make', '104', '337', '10:18.0', '11', '84-80', 'Chicago', 'CHI', 'BOS', '1997'], ['kukocto01', 4, 'miss', '63', '8', '10:04.0', '24', '84-80', 'Chicago', 'CHI', 'BOS', '1997'], ['pippesc01', 4, 'miss', '201', '428', '6:51.0', '24', '88-87', 'Chicago', 'CHI', 'BOS', '1997'], ['parisro01', 4, 'make', '30', '128', '5:19.0', '11', '92-87', 'Chicago', 'CHI', 'BOS', '1997'], ['jordami01', 4, 'make', '41', '87', '1:36.0', '15', '103-94', 'Chicago', 'CHI', 'BOS', '1997'], ['wesleda01', 1, 'make', '172', '403', '11:06.0', '20', '2-3', 'Boston', 'CHI', 'BOS', '1997'], ['wesleda01', 1, 'miss', '34', '4', '9:09.0', '24', '4-9', 'Boston', 'CHI', 'BOS', '1997'], ['walkean02', 1, 'make', '125', '456', '8:24.0', '22', '10-11', 'Boston', 'CHI', 'BOS', '1997'], ['foxri01', 1, 'make', '145', '454', '7:44.0', '23', '13-11', 'Boston', 'CHI', 'BOS', '1997'], ['foxri01', 1, 'make', '195', '326', '2:03.0', '17', '23-19', 'Boston', 'CHI', 'BOS', '1997'], ['barroda01', 1, 'make', '140', '456', '1:28.0', '23', '26-22', 'Boston', 'CHI', 'BOS', '1997'], ['barroda01', 1, 'miss', '140', '7', '0:48.0', '24', '26-24', 'Boston', 'CHI', 'BOS', '1997'], ['brickfr01', 2, 'make', '80', '5', '9:50.0', '24', '36-33', 'Boston', 'CHI', 'BOS', '1997'], ['barroda01', 2, 'make', '140', '235', '9:03.0', '9', '38-33', 'Boston', 'CHI', 'BOS', '1997'], ['barroda01', 2, 'make', '99', '460', '8:41.0', '22', '41-33', 'Boston', 'CHI', 'BOS', '1997'], ['walkean02', 2, 'make', '147', '256', '7:59.0', '10', '43-33', 'Boston', 'CHI', 'BOS', '1997'], ['dayto01', 2, 'make', '52', '471', '6:51.0', '23', '49-33', 'Boston', 'CHI', 'BOS', '1997'], ['walkean02', 2, 'miss', '45', '2', '6:20.0', '24', '49-34', 'Boston', 'CHI', 'BOS', '1997'], ['barroda01', 2, 'make', '253', '285', '4:16.0', '21', '53-38', 'Boston', 'CHI', 'BOS', '1997'], ['wesleda01', 2, 'miss', '221', '415', '3:25.0', '24', '53-40', 'Boston', 'CHI', 'BOS', '1997'], ['barroda01', 2, 'make', '117', '85', '2:15.0', '17', '55-42', 'Boston', 'CHI', 'BOS', '1997'], ['walkean02', 2, 'make', '52', '150', '1:09.0', '9', '57-46', 'Boston', 'CHI', 'BOS', '1997'], ['foxri01', 2, 'miss', '43', '6', '0:11.0', '24', '59-48', 'Boston', 'CHI', 'BOS', '1997'], ['walkean02', 3, 'miss', '119', '7', '11:05.0', '24', '59-50', 'Boston', 'CHI', 'BOS', '1997'], ['foxri01', 3, 'make', '49', '467', '7:50.0', '22', '65-57', 'Boston', 'CHI', 'BOS', '1997'], ['brickfr01', 3, 'miss', '218', '410', '5:21.0', '23', '65-66', 'Boston', 'CHI', 'BOS', '1997'], ['barroda01', 3, 'make', '242', '315', '2:30.0', '21', '75-74', 'Boston', 'CHI', 'BOS', '1997'], ['barroda01', 3, 'miss', '299', '282', '0:49.0', '25', '75-76', 'Boston', 'CHI', 'BOS', '1997'], ['wesleda01', 4, 'make', '147', '5', '8:31.0', '25', '85-86', 'Boston', 'CHI', 'BOS', '1997'], ['foxri01', 4, 'miss', '199', '417', '6:35.0', '23', '87-90', 'Boston', 'CHI', 'BOS', '1997'], ['foxri01', 4, 'miss', '223', '408', '5:29.0', '24', '87-90', 'Boston', 'CHI', 'BOS', '1997'], ['wesleda01', 4, 'miss', '244', '81', '4:49.0', '25', '87-92', 'Boston', 'CHI', 'BOS', '1997'], ['barroda01', 4, 'make', '188', '237', '2:30.0', '14', '92-99', 'Boston', 'CHI', 'BOS', '1997'], ['dayto01', 4, 'miss', '214', '50', '0:00.0', '25', '96-107', 'Boston', 'CHI', 'BOS', '1997']]\n"
          ],
          "name": "stdout"
        }
      ]
    },
    {
      "cell_type": "code",
      "metadata": {
        "colab": {
          "base_uri": "https://localhost:8080/"
        },
        "id": "fALW9QPuWLWl",
        "outputId": "91e3499d-24ea-4297-9f6a-8a1178ebd2d3"
      },
      "source": [
        "import timeit as tt\n",
        "def toCSVLine(data):\n",
        "  return ','.join(str(d) for d in data)\n",
        "\n",
        "boxScoreLinks = open(\"box_score_links.txt\").readlines()\n",
        "boxscore_URLS = sc.parallelize(boxScoreLinks[31847:]) # create subset to test on\n",
        "textFileName = 'all_shot_chart_data'\n",
        "start= tt.default_timer()\n",
        "boxscore_URLS.map(lambda x: get_single_shot_chart_data(x.strip())).flatMap(lambda x:\n",
        "              x).map(lambda x: toCSVLine(x)).saveAsTextFile(textFileName)\n",
        "stop = tt.default_timer()\n",
        "print('It took {} seconds to extract all shot chart data.'.format(stop - start))"
      ],
      "execution_count": 9,
      "outputs": [
        {
          "output_type": "stream",
          "text": [
            "It took 6283.069952373 seconds to extract all shot chart data.\n"
          ],
          "name": "stdout"
        }
      ]
    },
    {
      "cell_type": "code",
      "metadata": {
        "id": "QVfEDdlGCzsA"
      },
      "source": [
        "!cp -r all_shot_chart_data /content/drive/MyDrive/CS631-Project"
      ],
      "execution_count": 14,
      "outputs": []
    },
    {
      "cell_type": "code",
      "metadata": {
        "colab": {
          "base_uri": "https://localhost:8080/"
        },
        "id": "lz7xYlxvBopA",
        "outputId": "e507ebcb-5c8d-4e22-8c78-e889905703fd"
      },
      "source": [
        "from google.colab import drive\n",
        "drive.mount('/content/drive')"
      ],
      "execution_count": 11,
      "outputs": [
        {
          "output_type": "stream",
          "text": [
            "Mounted at /content/drive\n"
          ],
          "name": "stdout"
        }
      ]
    }
  ]
}