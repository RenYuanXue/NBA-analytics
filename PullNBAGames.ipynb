{
 "cells": [
  {
   "cell_type": "markdown",
   "metadata": {},
   "source": [
    "## Code to pull game data\n",
    "This script is to pull NBA game data from each season. The data will be pulled/scraped from basketball-reference. To access pages which contains all the seasonal games the URL is https://www.basketball-reference.com/leagues/NBA_YYYY_games.html, where YYYY is the year of the season. A season is denoted by the year it ends in rather than begins in."
   ]
  },
  {
   "cell_type": "code",
   "execution_count": 39,
   "metadata": {},
   "outputs": [
    {
     "name": "stdout",
     "output_type": "stream",
     "text": [
      "Defaulting to user installation because normal site-packages is not writeable\n",
      "Requirement already up-to-date: pip in /srv/DFSc/cs-teaching/home/u1/pmcwhann/.local/lib/python3.6/site-packages (20.2.4)\n",
      "Defaulting to user installation because normal site-packages is not writeable\n",
      "Requirement already satisfied: lxml in /usr/lib/python3/dist-packages (4.2.1)\n"
     ]
    }
   ],
   "source": [
    "!pip install --upgrade pip\n",
    "!pip install lxml"
   ]
  },
  {
   "cell_type": "code",
   "execution_count": 112,
   "metadata": {},
   "outputs": [],
   "source": [
    "import requests\n",
    "from bs4 import BeautifulSoup\n",
    "from lxml import html\n",
    "\n",
    "def create_list_boxscores(url, output):\n",
    "    \"\"\"\n",
    "    Take url to a specific month of a season and\n",
    "    generate a list of boxscores\n",
    "    @input url: url of a specific month of games.\n",
    "    @input output: a list that we will be appending the boxscore url's to.\n",
    "    \n",
    "    @return void: not returning anything as additions are made to output which is global.\n",
    "    \"\"\"\n",
    "    page = requests.get(url)    \n",
    "    tree = html.fromstring(page.content)\n",
    "    \n",
    "    # Root to box_scores\n",
    "    base_path = \"https://www.basketball-reference.com\"\n",
    "    \n",
    "    # Grab all boxscores\n",
    "    games = tree.xpath('//*[@id=\"schedule\"]/tbody/tr/td[@data-stat=\"box_score_text\"]/a/@href')\n",
    "    \n",
    "    # Add all box scores to the list for printing\n",
    "    for g in games:\n",
    "        output.append(base_path + g)\n",
    "        \n",
    "def get_nba_year_urls(year_start = 1956, year_end=2020):\n",
    "    nba_yearly_urls = []\n",
    "    example_url = \"https://www.basketball-reference.com/leagues/NBA_2018_games.html\"\n",
    "    for year in range(year_start, year_end+1):\n",
    "        nba_yearly_urls.append(\"https://www.basketball-reference.com/leagues/NBA_\" + str(year) + \"_games.html\")\n",
    "    return nba_yearly_urls\n",
    "\n",
    "def get_monthly_nba_from_year(nba_year_url):\n",
    "    page = requests.get(nba_year_url)\n",
    "    tree = html.fromstring(page.content)\n",
    "    months = tree.xpath('//*[@class=\"filter\"]/div/a/@href')\n",
    "\n",
    "    return months\n",
    "\n",
    "def get_monthly_nba_links(year_start = 1956, year_end=2020):\n",
    "    nba_years = get_nba_year_urls(year_start, year_end)\n",
    "    monthly_urls = []\n",
    "    for year in nba_years:\n",
    "        monthly_urls = monthly_urls + get_monthly_nba_from_year(year)\n",
    "    return monthly_urls\n",
    "\n",
    "def get_all_boxscores():\n",
    "    '''\n",
    "    Get all boxscore links.\n",
    "    '''\n",
    "    # Root to box_scores\n",
    "    base_path = \"https://www.basketball-reference.com\"\n",
    "    \n",
    "    # monthly branches\n",
    "    links = get_monthly_nba_links()\n",
    "    \n",
    "    # boxscore links\n",
    "    box_links = []\n",
    "    \n",
    "    for l in links:\n",
    "        create_list_boxscores(base_path + l, box_links) # Adds to box_links\n",
    "    \n",
    "    \n",
    "    with open('box_score_links.txt', 'w') as f:\n",
    "        for item in box_links:\n",
    "            f.write(\"%s\\n\" % item)\n",
    "            \n",
    "    f.close()\n",
    "    "
   ]
  },
  {
   "cell_type": "code",
   "execution_count": 113,
   "metadata": {},
   "outputs": [],
   "source": [
    "get_all_boxscores()"
   ]
  },
  {
   "cell_type": "code",
   "execution_count": null,
   "metadata": {},
   "outputs": [],
   "source": [
    "# GAMES\n",
    "# STATS table per file\n",
    "# metadata: playoff/reg?,teams names, date,\n",
    "# short-chart -> Whether shot will go in or not. (player meta, time of game, other team meta, position of shot, time period)\n",
    "# play-by-play"
   ]
  },
  {
   "cell_type": "code",
   "execution_count": null,
   "metadata": {},
   "outputs": [],
   "source": [
    "# PLAYERS\n",
    "# "
   ]
  }
 ],
 "metadata": {
  "kernelspec": {
   "display_name": "Python 3",
   "language": "python",
   "name": "python3"
  },
  "language_info": {
   "codemirror_mode": {
    "name": "ipython",
    "version": 3
   },
   "file_extension": ".py",
   "mimetype": "text/x-python",
   "name": "python",
   "nbconvert_exporter": "python",
   "pygments_lexer": "ipython3",
   "version": "3.6.9"
  }
 },
 "nbformat": 4,
 "nbformat_minor": 2
}
