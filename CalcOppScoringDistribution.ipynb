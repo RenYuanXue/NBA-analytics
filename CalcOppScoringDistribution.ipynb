{
  "nbformat": 4,
  "nbformat_minor": 0,
  "metadata": {
    "colab": {
      "name": "CalcOppScoringDistribution.ipynb",
      "provenance": [],
      "collapsed_sections": [],
      "toc_visible": true,
      "authorship_tag": "ABX9TyM2Fd+yjVsf2og4YGyT/P5d"
    },
    "kernelspec": {
      "name": "python3",
      "display_name": "Python 3"
    }
  },
  "cells": [
    {
      "cell_type": "markdown",
      "metadata": {
        "id": "KnsBInWe4gFg"
      },
      "source": [
        "### This script is to calculate the joint distribution of (x,y) of make/miss a FG from a location."
      ]
    },
    {
      "cell_type": "code",
      "metadata": {
        "colab": {
          "base_uri": "https://localhost:8080/"
        },
        "id": "DlPI7zTO9eDU",
        "outputId": "4f7b7d32-c22b-4a29-a062-2827ee6ed303"
      },
      "source": [
        "%%shell\n",
        "apt-get update -qq > /dev/null\n",
        "apt-get install openjdk-8-jdk-headless -qq > /dev/null\n",
        "wget -q https://downloads.apache.org/spark/spark-2.4.7/spark-2.4.7-bin-hadoop2.7.tgz\n",
        "tar xf spark-2.4.7-bin-hadoop2.7.tgz\n",
        "pip install -q findspark"
      ],
      "execution_count": null,
      "outputs": [
        {
          "output_type": "execute_result",
          "data": {
            "text/plain": [
              ""
            ]
          },
          "metadata": {
            "tags": []
          },
          "execution_count": 1
        }
      ]
    },
    {
      "cell_type": "code",
      "metadata": {
        "colab": {
          "base_uri": "https://localhost:8080/"
        },
        "id": "hsd0ab_z42Az",
        "outputId": "216f699a-d208-4343-9de7-fe4d8da7ee14"
      },
      "source": [
        "%%shell\n",
        "pip install --upgrade pip\n",
        "pip install lxml\n",
        "git clone https://github.com/pmcwhannel/NBA-analytics.git\n",
        "mv NBA-analytics NBAanalytics # So importing functions is easy"
      ],
      "execution_count": null,
      "outputs": [
        {
          "output_type": "stream",
          "text": [
            "Collecting pip\n",
            "\u001b[?25l  Downloading https://files.pythonhosted.org/packages/55/73/bce122d1ed0217b3c1a3439ab16dfa94bbeabd0d31755fcf907493abf39b/pip-20.3-py2.py3-none-any.whl (1.5MB)\n",
            "\u001b[K     |████████████████████████████████| 1.5MB 4.3MB/s \n",
            "\u001b[?25hInstalling collected packages: pip\n",
            "  Found existing installation: pip 19.3.1\n",
            "    Uninstalling pip-19.3.1:\n",
            "      Successfully uninstalled pip-19.3.1\n",
            "Successfully installed pip-20.3\n",
            "Requirement already satisfied: lxml in /usr/local/lib/python3.6/dist-packages (4.2.6)\n",
            "Cloning into 'NBA-analytics'...\n",
            "remote: Enumerating objects: 26, done.\u001b[K\n",
            "remote: Counting objects: 100% (26/26), done.\u001b[K\n",
            "remote: Compressing objects: 100% (22/22), done.\u001b[K\n",
            "remote: Total 26 (delta 8), reused 16 (delta 3), pack-reused 0\u001b[K\n",
            "Unpacking objects: 100% (26/26), done.\n"
          ],
          "name": "stdout"
        },
        {
          "output_type": "execute_result",
          "data": {
            "text/plain": [
              ""
            ]
          },
          "metadata": {
            "tags": []
          },
          "execution_count": 2
        }
      ]
    },
    {
      "cell_type": "markdown",
      "metadata": {
        "id": "Kll0pIvY84CR"
      },
      "source": [
        "Import functions and test them out"
      ]
    },
    {
      "cell_type": "code",
      "metadata": {
        "id": "Tv0I-aiF66Wz"
      },
      "source": [
        "# Have to rename drive to get rid of NBA-analytics -> NBAanalytics\n",
        "from NBAanalytics.ShotChartFunctions import *\n",
        "import os\n",
        "os.environ[\"JAVA_HOME\"] = \"/usr/lib/jvm/java-8-openjdk-amd64\"\n",
        "os.environ[\"SPARK_HOME\"] = \"/content/spark-2.4.7-bin-hadoop2.7\"\n",
        "\n",
        "import findspark\n",
        "findspark.init()\n",
        "\n",
        "from pyspark import SparkContext\n",
        "sc = SparkContext(appName=\"YourTest\", master=\"local[*]\")"
      ],
      "execution_count": null,
      "outputs": []
    },
    {
      "cell_type": "code",
      "metadata": {
        "id": "mVltb9dk8IE9"
      },
      "source": [
        "test_link = 'https://www.basketball-reference.com/boxscores/199911020CHH.html' # Designed strongly based on this link\n",
        "get_single_shot_chart_data(test_link)[:1] # Return is list of lists"
      ],
      "execution_count": null,
      "outputs": []
    },
    {
      "cell_type": "markdown",
      "metadata": {
        "id": "aLF0dwZQ9RO-"
      },
      "source": [
        "Time to create RDD boxscore URLS"
      ]
    },
    {
      "cell_type": "code",
      "metadata": {
        "id": "QNzNGZFsH5r8"
      },
      "source": [
        "# boxscore_URLS = sc.textFile(\"NBAanalytics/box_score_links.txt\") \n",
        "# Preprocess text file to reduce to smaller subset. grab all from 2000\n",
        "# ~1200s box scores per year (this is two halves of two seasons)\n",
        "lines = open(\"NBAanalytics/box_score_links.txt\").readlines()\n",
        "subset_URLS = []\n",
        "for line in lines:\n",
        "  if int(line[47:51]) == 2000:\n",
        "    subset_URLS.append(line.strip())\n",
        "  else:\n",
        "    continue"
      ],
      "execution_count": null,
      "outputs": []
    },
    {
      "cell_type": "code",
      "metadata": {
        "colab": {
          "base_uri": "https://localhost:8080/"
        },
        "id": "_mwUM7-jKoPN",
        "outputId": "58890824-0ba1-4396-c010-a9fd9fa97eb6"
      },
      "source": [
        "boxscore_URLS = sc.parallelize(subset_URLS) # create subset to test on\n",
        "boxscore_URLS.count()"
      ],
      "execution_count": null,
      "outputs": [
        {
          "output_type": "execute_result",
          "data": {
            "text/plain": [
              "1281"
            ]
          },
          "metadata": {
            "tags": []
          },
          "execution_count": 5
        }
      ]
    },
    {
      "cell_type": "code",
      "metadata": {
        "colab": {
          "base_uri": "https://localhost:8080/"
        },
        "id": "Cu4MRj4J-UqR",
        "outputId": "81a902e8-e815-4a43-bfcb-8d15119b08d5"
      },
      "source": [
        "import timeit as tt\n",
        "start= tt.default_timer()\n",
        "print(boxscore_URLS.map(lambda x: get_single_shot_chart_data(x)).take(1))\n",
        "stop = tt.default_timer()\n",
        "print('It took {} seconds to extract all shot chart data.'.format(stop - start))"
      ],
      "execution_count": null,
      "outputs": [
        {
          "output_type": "stream",
          "text": [
            "[[['amaecjo01', 1, 'make', '143', '269', '11:34.0', '10', '2-0', 'Orlando', 'ORL', 'MIA', '2000'], ['amaecjo01', 1, 'make', '169', '288', '10:40.0', '13', '6-5', 'Orlando', 'ORL', 'MIA', '2000'], ['amaecjo01', 1, 'miss', '253', '245', '10:11.0', '20', '6-5', 'Orlando', 'ORL', 'MIA', '2000'], ['abdulta01', 1, 'miss', '229', '340', '9:48.0', '20', '6-5', 'Orlando', 'ORL', 'MIA', '2000'], ['abdulta01', 1, 'make', '55', '389', '9:19.0', '15', '8-5', 'Orlando', 'ORL', 'MIA', '2000'], ['abdulta01', 1, 'miss', '118', '252', '8:47.0', '6', '8-7', 'Orlando', 'ORL', 'MIA', '2000'], ['armstda01', 1, 'miss', '66', '318', '7:52.0', '7', '8-7', 'Orlando', 'ORL', 'MIA', '2000'], ['abdulta01', 1, 'miss', '156', '426', '7:31.0', '21', '8-9', 'Orlando', 'ORL', 'MIA', '2000'], ['wallabe01', 1, 'miss', '113', '284', '7:00.0', '7', '8-11', 'Orlando', 'ORL', 'MIA', '2000'], ['willimo01', 1, 'miss', '107', '288', '6:31.0', '7', '8-14', 'Orlando', 'ORL', 'MIA', '2000'], ['abdulta01', 1, 'miss', '169', '299', '6:28.0', '13', '8-14', 'Orlando', 'ORL', 'MIA', '2000'], ['armstda01', 1, 'miss', '223', '58', '6:06.0', '25', '8-14', 'Orlando', 'ORL', 'MIA', '2000'], ['amaecjo01', 1, 'miss', '118', '202', '5:52.0', '7', '8-14', 'Orlando', 'ORL', 'MIA', '2000'], ['armstda01', 1, 'make', '184', '310', '4:49.0', '15', '12-16', 'Orlando', 'ORL', 'MIA', '2000'], ['gatlich01', 1, 'miss', '66', '318', '4:26.0', '7', '12-16', 'Orlando', 'ORL', 'MIA', '2000'], ['doleami01', 1, 'make', '180', '325', '4:20.0', '16', '14-16', 'Orlando', 'ORL', 'MIA', '2000'], ['armstda01', 1, 'miss', '223', '411', '3:38.0', '24', '14-16', 'Orlando', 'ORL', 'MIA', '2000'], ['armstda01', 1, 'make', '296', '252', '3:02.0', '25', '17-18', 'Orlando', 'ORL', 'MIA', '2000'], ['gatlich01', 1, 'miss', '201', '398', '1:50.0', '21', '18-18', 'Orlando', 'ORL', 'MIA', '2000'], ['armstda01', 1, 'make', '62', '65', '1:25.0', '18', '20-18', 'Orlando', 'ORL', 'MIA', '2000'], ['gatlich01', 1, 'miss', '66', '398', '0:58.0', '15', '20-18', 'Orlando', 'ORL', 'MIA', '2000'], ['atkinch01', 1, 'make', '77', '411', '0:30.0', '17', '22-18', 'Orlando', 'ORL', 'MIA', '2000'], ['maggeco01', 1, 'make', '146', '419', '0:00.0', '20', '24-18', 'Orlando', 'ORL', 'MIA', '2000'], ['gatlich01', 2, 'miss', '51', '71', '11:45.0', '16', '24-18', 'Orlando', 'ORL', 'MIA', '2000'], ['maggeco01', 2, 'miss', '96', '239', '11:04.0', '4', '24-18', 'Orlando', 'ORL', 'MIA', '2000'], ['doleami01', 2, 'miss', '195', '245', '9:53.0', '14', '28-20', 'Orlando', 'ORL', 'MIA', '2000'], ['gatlich01', 2, 'miss', '128', '252', '8:54.0', '7', '29-22', 'Orlando', 'ORL', 'MIA', '2000'], ['abdulta01', 2, 'miss', '90', '211', '8:29.0', '4', '29-25', 'Orlando', 'ORL', 'MIA', '2000'], ['doleami01', 2, 'make', '253', '239', '8:05.0', '20', '31-25', 'Orlando', 'ORL', 'MIA', '2000'], ['gatlich01', 2, 'make', '55', '310', '5:05.0', '7', '41-33', 'Orlando', 'ORL', 'MIA', '2000'], ['armstda01', 2, 'miss', '156', '361', '4:06.0', '16', '43-38', 'Orlando', 'ORL', 'MIA', '2000'], ['abdulta01', 2, 'miss', '51', '80', '2:39.0', '16', '47-43', 'Orlando', 'ORL', 'MIA', '2000'], ['armstda01', 2, 'make', '257', '376', '2:34.0', '25', '50-43', 'Orlando', 'ORL', 'MIA', '2000'], ['amaecjo01', 2, 'make', '191', '318', '0:16.0', '16', '56-47', 'Orlando', 'ORL', 'MIA', '2000'], ['armstda01', 2, 'miss', '281', '86', '0:00.0', '27', '56-49', 'Orlando', 'ORL', 'MIA', '2000'], ['abdulta01', 3, 'miss', '195', '404', '11:07.0', '21', '56-51', 'Orlando', 'ORL', 'MIA', '2000'], ['amaecjo01', 3, 'miss', '62', '411', '10:21.0', '17', '58-51', 'Orlando', 'ORL', 'MIA', '2000'], ['amaecjo01', 3, 'miss', '83', '426', '8:44.0', '18', '60-51', 'Orlando', 'ORL', 'MIA', '2000'], ['armstda01', 3, 'make', '236', '239', '7:41.0', '19', '62-51', 'Orlando', 'ORL', 'MIA', '2000'], ['armstda01', 3, 'miss', '229', '404', '7:08.0', '24', '62-54', 'Orlando', 'ORL', 'MIA', '2000'], ['willimo01', 3, 'make', '55', '426', '6:44.0', '19', '64-54', 'Orlando', 'ORL', 'MIA', '2000'], ['armstda01', 3, 'miss', '285', '273', '6:01.0', '23', '64-57', 'Orlando', 'ORL', 'MIA', '2000'], ['maggeco01', 3, 'miss', '246', '245', '4:39.0', '19', '68-60', 'Orlando', 'ORL', 'MIA', '2000'], ['gatlich01', 3, 'miss', '62', '404', '4:05.0', '16', '68-60', 'Orlando', 'ORL', 'MIA', '2000'], ['amaecjo01', 3, 'miss', '40', '37', '3:31.0', '20', '68-60', 'Orlando', 'ORL', 'MIA', '2000'], ['atkinch01', 3, 'make', '208', '80', '2:50.0', '22', '70-60', 'Orlando', 'ORL', 'MIA', '2000'], ['maggeco01', 3, 'miss', '139', '273', '2:06.0', '9', '70-62', 'Orlando', 'ORL', 'MIA', '2000'], ['atkinch01', 3, 'make', '184', '303', '0:56.0', '15', '75-62', 'Orlando', 'ORL', 'MIA', '2000'], ['doleami01', 3, 'make', '180', '398', '0:00.0', '20', '77-64', 'Orlando', 'ORL', 'MIA', '2000'], ['outlabo01', 4, 'make', '62', '441', '10:34.0', '20', '79-68', 'Orlando', 'ORL', 'MIA', '2000'], ['doleami01', 4, 'miss', '55', '361', '10:06.0', '12', '79-71', 'Orlando', 'ORL', 'MIA', '2000'], ['atkinch01', 4, 'miss', '62', '340', '9:09.0', '10', '81-71', 'Orlando', 'ORL', 'MIA', '2000'], ['outlabo01', 4, 'miss', '118', '196', '8:25.0', '8', '81-72', 'Orlando', 'ORL', 'MIA', '2000'], ['abdulta01', 4, 'miss', '174', '295', '6:19.0', '13', '85-76', 'Orlando', 'ORL', 'MIA', '2000'], ['doleami01', 4, 'make', '180', '310', '5:57.0', '15', '87-78', 'Orlando', 'ORL', 'MIA', '2000'], ['doleami01', 4, 'make', '62', '114', '5:09.0', '13', '89-80', 'Orlando', 'ORL', 'MIA', '2000'], ['armstda01', 4, 'miss', '62', '441', '4:27.0', '20', '89-83', 'Orlando', 'ORL', 'MIA', '2000'], ['abdulta01', 4, 'miss', '242', '136', '3:44.0', '21', '91-83', 'Orlando', 'ORL', 'MIA', '2000'], ['doleami01', 4, 'miss', '62', '71', '3:25.0', '16', '91-83', 'Orlando', 'ORL', 'MIA', '2000'], ['wallabe01', 4, 'miss', '212', '151', '2:44.0', '18', '91-83', 'Orlando', 'ORL', 'MIA', '2000'], ['armstda01', 4, 'miss', '292', '181', '2:08.0', '24', '93-85', 'Orlando', 'ORL', 'MIA', '2000'], ['garripa01', 4, 'make', '184', '295', '1:17.0', '14', '95-89', 'Orlando', 'ORL', 'MIA', '2000'], ['doleami01', 4, 'miss', '107', '258', '0:47.0', '5', '95-92', 'Orlando', 'ORL', 'MIA', '2000'], ['armstda01', 4, 'miss', '257', '108', '0:16.0', '24', '95-94', 'Orlando', 'ORL', 'MIA', '2000'], ['garripa01', 4, 'miss', '246', '252', '0:00.0', '19', '96-96', 'Orlando', 'ORL', 'MIA', '2000'], ['abdulta01', 5, 'miss', '66', '123', '3:43.0', '11', '98-98', 'Orlando', 'ORL', 'MIA', '2000'], ['abdulta01', 5, 'miss', '212', '108', '2:50.0', '20', '98-98', 'Orlando', 'ORL', 'MIA', '2000'], ['amaecjo01', 5, 'miss', '246', '245', '2:16.0', '19', '98-99', 'Orlando', 'ORL', 'MIA', '2000'], ['garripa01', 5, 'miss', '296', '280', '1:49.0', '24', '98-101', 'Orlando', 'ORL', 'MIA', '2000'], ['willimo01', 5, 'miss', '296', '252', '0:47.0', '24', '98-106', 'Orlando', 'ORL', 'MIA', '2000'], ['armstda01', 5, 'miss', '223', '376', '0:30.0', '22', '98-109', 'Orlando', 'ORL', 'MIA', '2000'], ['atkinch01', 5, 'make', '253', '101', '0:26.0', '25', '101-109', 'Orlando', 'ORL', 'MIA', '2000'], ['majerda01', 1, 'make', '292', '267', '11:17.0', '24', '3-2', 'Miami', 'ORL', 'MIA', '2000'], ['mashbja01', 1, 'make', '195', '267', '10:51.0', '15', '5-4', 'Miami', 'ORL', 'MIA', '2000'], ['cartean01', 1, 'miss', '163', '398', '10:26.0', '19', '5-6', 'Miami', 'ORL', 'MIA', '2000'], ['mournal01', 1, 'miss', '66', '389', '10:00.0', '14', '5-6', 'Miami', 'ORL', 'MIA', '2000'], ['mashbja01', 1, 'miss', '66', '404', '9:28.0', '16', '5-6', 'Miami', 'ORL', 'MIA', '2000'], ['mournal01', 1, 'miss', '180', '252', '8:36.0', '13', '7-8', 'Miami', 'ORL', 'MIA', '2000'], ['mournal01', 1, 'miss', '62', '86', '8:03.0', '15', '7-8', 'Miami', 'ORL', 'MIA', '2000'], ['mournal01', 1, 'make', '174', '310', '7:43.0', '14', '9-8', 'Miami', 'ORL', 'MIA', '2000'], ['mournal01', 1, 'miss', '242', '239', '6:15.0', '19', '14-8', 'Miami', 'ORL', 'MIA', '2000'], ['majerda01', 1, 'miss', '180', '456', '5:59.0', '25', '14-8', 'Miami', 'ORL', 'MIA', '2000'], ['brownpj01', 1, 'miss', '55', '340', '5:18.0', '10', '16-8', 'Miami', 'ORL', 'MIA', '2000'], ['mournal01', 1, 'miss', '62', '404', '4:56.0', '16', '16-10', 'Miami', 'ORL', 'MIA', '2000'], ['mashbja01', 1, 'miss', '274', '129', '4:05.0', '24', '16-14', 'Miami', 'ORL', 'MIA', '2000'], ['mashbja01', 1, 'make', '135', '280', '3:16.0', '9', '18-14', 'Miami', 'ORL', 'MIA', '2000'], ['majerda01', 1, 'miss', '246', '86', '3:08.0', '24', '18-14', 'Miami', 'ORL', 'MIA', '2000'], ['cartean01', 1, 'miss', '242', '346', '2:47.0', '21', '18-17', 'Miami', 'ORL', 'MIA', '2000'], ['mournal01', 1, 'miss', '66', '181', '2:28.0', '6', '18-17', 'Miami', 'ORL', 'MIA', '2000'], ['mournal01', 1, 'miss', '77', '280', '1:59.0', '4', '18-18', 'Miami', 'ORL', 'MIA', '2000'], ['weathcl01', 1, 'miss', '55', '361', '1:34.0', '12', '18-18', 'Miami', 'ORL', 'MIA', '2000'], ['waltere01', 1, 'miss', '73', '441', '0:16.0', '20', '18-22', 'Miami', 'ORL', 'MIA', '2000'], ['waltere01', 2, 'miss', '246', '333', '11:25.0', '21', '18-24', 'Miami', 'ORL', 'MIA', '2000'], ['waltere01', 2, 'make', '229', '108', '10:44.0', '22', '20-26', 'Miami', 'ORL', 'MIA', '2000'], ['thorpot01', 2, 'miss', '246', '245', '10:05.0', '19', '20-28', 'Miami', 'ORL', 'MIA', '2000'], ['waltere01', 2, 'miss', '174', '258', '9:32.0', '12', '20-28', 'Miami', 'ORL', 'MIA', '2000'], ['thorpot01', 2, 'miss', '73', '144', '8:14.0', '9', '25-29', 'Miami', 'ORL', 'MIA', '2000'], ['lenarvo01', 2, 'make', '195', '93', '7:45.0', '21', '27-31', 'Miami', 'ORL', 'MIA', '2000'], ['brownpj01', 2, 'miss', '163', '280', '7:07.0', '11', '27-32', 'Miami', 'ORL', 'MIA', '2000'], ['lenarvo01', 2, 'make', '208', '151', '6:21.0', '18', '29-35', 'Miami', 'ORL', 'MIA', '2000'], ['lenarvo01', 2, 'make', '223', '361', '6:02.0', '21', '31-35', 'Miami', 'ORL', 'MIA', '2000'], ['mournal01', 2, 'miss', '128', '123', '5:42.0', '14', '31-37', 'Miami', 'ORL', 'MIA', '2000'], ['lenarvo01', 2, 'make', '246', '389', '4:41.0', '25', '36-41', 'Miami', 'ORL', 'MIA', '2000'], ['mashbja01', 2, 'make', '62', '136', '4:15.0', '10', '38-43', 'Miami', 'ORL', 'MIA', '2000'], ['lenarvo01', 2, 'make', '62', '471', '3:31.0', '23', '43-45', 'Miami', 'ORL', 'MIA', '2000'], ['mashbja01', 2, 'miss', '62', '123', '2:11.0', '11', '43-50', 'Miami', 'ORL', 'MIA', '2000'], ['lenarvo01', 2, 'miss', '83', '471', '1:56.0', '23', '43-50', 'Miami', 'ORL', 'MIA', '2000'], ['mashbja01', 2, 'miss', '236', '71', '1:47.0', '25', '43-50', 'Miami', 'ORL', 'MIA', '2000'], ['lenarvo01', 2, 'make', '73', '58', '1:25.0', '18', '45-50', 'Miami', 'ORL', 'MIA', '2000'], ['cartean01', 2, 'miss', '62', '447', '0:53.0', '20', '45-52', 'Miami', 'ORL', 'MIA', '2000'], ['mashbja01', 2, 'make', '150', '211', '0:36.0', '10', '47-54', 'Miami', 'ORL', 'MIA', '2000'], ['mournal01', 3, 'make', '83', '202', '11:27.0', '5', '51-56', 'Miami', 'ORL', 'MIA', '2000'], ['mournal01', 3, 'miss', '55', '114', '10:29.0', '12', '51-58', 'Miami', 'ORL', 'MIA', '2000'], ['majerda01', 3, 'miss', '219', '50', '10:08.0', '25', '51-58', 'Miami', 'ORL', 'MIA', '2000'], ['mashbja01', 3, 'miss', '83', '471', '8:59.0', '23', '51-60', 'Miami', 'ORL', 'MIA', '2000'], ['mournal01', 3, 'miss', '55', '71', '8:33.0', '16', '51-60', 'Miami', 'ORL', 'MIA', '2000'], ['brownpj01', 3, 'miss', '55', '426', '7:47.0', '18', '51-60', 'Miami', 'ORL', 'MIA', '2000'], ['majerda01', 3, 'make', '208', '50', '7:14.0', '25', '54-62', 'Miami', 'ORL', 'MIA', '2000'], ['mournal01', 3, 'make', '184', '288', '6:26.0', '14', '56-64', 'Miami', 'ORL', 'MIA', '2000'], ['cartean01', 3, 'miss', '139', '273', '5:51.0', '9', '57-64', 'Miami', 'ORL', 'MIA', '2000'], ['brownpj01', 3, 'miss', '101', '267', '5:49.0', '5', '57-64', 'Miami', 'ORL', 'MIA', '2000'], ['mournal01', 3, 'miss', '51', '383', '3:57.0', '14', '60-68', 'Miami', 'ORL', 'MIA', '2000'], ['mashbja01', 3, 'miss', '292', '267', '3:04.0', '24', '60-68', 'Miami', 'ORL', 'MIA', '2000'], ['lenarvo01', 3, 'make', '242', '245', '2:26.0', '19', '62-70', 'Miami', 'ORL', 'MIA', '2000'], ['mashbja01', 3, 'miss', '201', '151', '1:51.0', '17', '62-73', 'Miami', 'ORL', 'MIA', '2000'], ['mashbja01', 3, 'miss', '156', '288', '1:18.0', '11', '62-73', 'Miami', 'ORL', 'MIA', '2000'], ['lenarvo01', 3, 'make', '150', '273', '0:33.0', '11', '64-75', 'Miami', 'ORL', 'MIA', '2000'], ['mournal01', 3, 'miss', '179', '338', '0:14.0', '16', '64-75', 'Miami', 'ORL', 'MIA', '2000'], ['mashbja01', 4, 'make', '292', '288', '11:43.0', '25', '67-77', 'Miami', 'ORL', 'MIA', '2000'], ['mashbja01', 4, 'miss', '83', '280', '10:49.0', '5', '68-77', 'Miami', 'ORL', 'MIA', '2000'], ['lenarvo01', 4, 'make', '180', '28', '10:18.0', '25', '71-79', 'Miami', 'ORL', 'MIA', '2000'], ['mashbja01', 4, 'miss', '73', '5', '9:26.0', '23', '71-81', 'Miami', 'ORL', 'MIA', '2000'], ['lenarvo01', 4, 'miss', '128', '5', '9:01.0', '24', '71-81', 'Miami', 'ORL', 'MIA', '2000'], ['lenarvo01', 4, 'miss', '274', '346', '8:04.0', '24', '72-81', 'Miami', 'ORL', 'MIA', '2000'], ['mashbja01', 4, 'make', '83', '419', '7:59.0', '18', '74-81', 'Miami', 'ORL', 'MIA', '2000'], ['mashbja01', 4, 'miss', '62', '376', '7:32.0', '13', '74-83', 'Miami', 'ORL', 'MIA', '2000'], ['brownpj01', 4, 'make', '62', '50', '7:09.0', '19', '76-85', 'Miami', 'ORL', 'MIA', '2000'], ['thorpot01', 4, 'miss', '246', '245', '6:42.0', '19', '76-85', 'Miami', 'ORL', 'MIA', '2000'], ['mournal01', 4, 'miss', '139', '252', '5:31.0', '8', '78-87', 'Miami', 'ORL', 'MIA', '2000'], ['brownpj01', 4, 'make', '96', '217', '4:44.0', '5', '82-89', 'Miami', 'ORL', 'MIA', '2000'], ['mournal01', 4, 'miss', '55', '101', '4:09.0', '13', '83-91', 'Miami', 'ORL', 'MIA', '2000'], ['brownpj01', 4, 'miss', '55', '303', '3:08.0', '6', '83-91', 'Miami', 'ORL', 'MIA', '2000'], ['brownpj01', 4, 'miss', '47', '80', '1:07.0', '16', '89-95', 'Miami', 'ORL', 'MIA', '2000'], ['brownpj01', 4, 'miss', '107', '50', '1:02.0', '19', '89-95', 'Miami', 'ORL', 'MIA', '2000'], ['cartean01', 4, 'make', '296', '273', '0:56.0', '25', '92-95', 'Miami', 'ORL', 'MIA', '2000'], ['mournal01', 4, 'make', '62', '159', '0:08.0', '8', '96-96', 'Miami', 'ORL', 'MIA', '2000'], ['cartean01', 5, 'miss', '156', '346', '3:22.0', '14', '98-98', 'Miami', 'ORL', 'MIA', '2000'], ['brownpj01', 5, 'make', '212', '136', '2:00.0', '19', '101-98', 'Miami', 'ORL', 'MIA', '2000'], ['majerda01', 5, 'make', '257', '368', '1:22.0', '24', '104-98', 'Miami', 'ORL', 'MIA', '2000'], ['mashbja01', 5, 'make', '208', '389', '0:56.0', '22', '106-98', 'Miami', 'ORL', 'MIA', '2000']]]\n",
            "It took 0.4081469410000409 seconds to extract all shot chart data.\n"
          ],
          "name": "stdout"
        }
      ]
    },
    {
      "cell_type": "code",
      "metadata": {
        "colab": {
          "base_uri": "https://localhost:8080/"
        },
        "id": "9vdMfT1w-WiZ",
        "outputId": "41eb55f2-cee2-4d92-81cd-86e70b667f24"
      },
      "source": [
        "# limit data to subset and do all testing on that then will increase scale and see how performance changes."
      ],
      "execution_count": null,
      "outputs": [
        {
          "output_type": "execute_result",
          "data": {
            "text/plain": [
              "[]"
            ]
          },
          "metadata": {
            "tags": []
          },
          "execution_count": 25
        }
      ]
    }
  ]
}