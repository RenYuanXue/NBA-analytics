{
 "cells": [
  {
   "cell_type": "code",
   "execution_count": 45,
   "metadata": {},
   "outputs": [],
   "source": [
    "import numpy as np"
   ]
  },
  {
   "cell_type": "code",
   "execution_count": 93,
   "metadata": {},
   "outputs": [],
   "source": [
    "# Using readlines() \n",
    "file1 = open('players.txt', 'r') \n",
    "players = file1.readlines()\n",
    "player_urls = []\n",
    "\n",
    "for player in players:\n",
    "    for i in range(len(player)):\n",
    "        if player[i] == \"\\\\\":\n",
    "            for j in range(i + 1, len(player)):\n",
    "                if player[j] == ',':\n",
    "                    player_urls.append(player[i+1:j])\n",
    "                    break\n",
    "            break"
   ]
  },
  {
   "cell_type": "code",
   "execution_count": 96,
   "metadata": {},
   "outputs": [],
   "source": [
    "complete_urls = []\n",
    "for url in player_urls:\n",
    "    start_character = url[0]\n",
    "    complete_urls.append('https://www.basketball-reference.com/players/' + start_character + '/' + url + '.html')"
   ]
  },
  {
   "cell_type": "code",
   "execution_count": 99,
   "metadata": {},
   "outputs": [],
   "source": [
    "outF = open(\"player_urls.txt\", \"w\")\n",
    "for url in complete_urls:\n",
    "  # write line to output file\n",
    "  outF.write(url)\n",
    "  outF.write(\"\\n\")\n",
    "outF.close()"
   ]
  },
  {
   "cell_type": "code",
   "execution_count": null,
   "metadata": {},
   "outputs": [],
   "source": []
  }
 ],
 "metadata": {
  "kernelspec": {
   "display_name": "Python 3",
   "language": "python",
   "name": "python3"
  },
  "language_info": {
   "codemirror_mode": {
    "name": "ipython",
    "version": 3
   },
   "file_extension": ".py",
   "mimetype": "text/x-python",
   "name": "python",
   "nbconvert_exporter": "python",
   "pygments_lexer": "ipython3",
   "version": "3.7.6"
  }
 },
 "nbformat": 4,
 "nbformat_minor": 4
}
