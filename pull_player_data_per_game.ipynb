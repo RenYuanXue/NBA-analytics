{
 "cells": [
  {
   "cell_type": "code",
   "execution_count": 3,
   "metadata": {},
   "outputs": [],
   "source": [
    "import requests\n",
    "import re\n",
    "import pandas as pd\n",
    "from lxml import html"
   ]
  },
  {
   "cell_type": "markdown",
   "metadata": {},
   "source": [
    "## Helper Functions"
   ]
  },
  {
   "cell_type": "code",
   "execution_count": 4,
   "metadata": {},
   "outputs": [],
   "source": [
    "def grab_player_key(player_url):\n",
    "    \"Returns player key from the bball reference player url\"\n",
    "    return re.search('(?<=/)[^/]+(?=.html)', player_url).group(0)"
   ]
  },
  {
   "cell_type": "markdown",
   "metadata": {},
   "source": [
    "## Per Game Scraping - To Pandas Dataframe"
   ]
  },
  {
   "cell_type": "code",
   "execution_count": 5,
   "metadata": {},
   "outputs": [],
   "source": [
    "import pandas as pd\n",
    "\n",
    "def create_per_game_dataframe(player_url):\n",
    "    \"\"\"Create a dataframe with the Per Game stats of a player\"\"\"\n",
    "    \n",
    "    # Read html, find appropriate table\n",
    "    page = requests.get(player_url)\n",
    "    tree = html.fromstring(page.content)\n",
    "    per_game_table_rows = tree.xpath('//*[@id=\"per_game\"]/*/tr')\n",
    "    \n",
    "    # each element of per_game_cols will contain the name of the column, and the list of values in said column\n",
    "    per_game_cols = []\n",
    "    \n",
    "    age_column_index = -1\n",
    "    season_index = -1\n",
    "\n",
    "    # Get Column Headers\n",
    "    column_index = 0\n",
    "    for header in per_game_table_rows[0]:\n",
    "        name = header.text_content()\n",
    "        if name.upper() == \"AGE\":\n",
    "            age_column_index = column_index\n",
    "        elif name.upper() == \"SEASON\":\n",
    "            season_index = column_index\n",
    "\n",
    "        per_game_cols.append( (name, []) )\n",
    "        column_index += 1\n",
    "\n",
    "    # add another column for player key\n",
    "    per_game_cols.append( (\"PlayerKey\", []))\n",
    "\n",
    "    if age_column_index == -1:\n",
    "        raise RuntimeError(\"Age column index not found\")\n",
    "    if season_index == -1:\n",
    "        raise RuntimeError(\"Season column index not found\")\n",
    "    print(\"Age Index: \", age_column_index)\n",
    "    print(\"Season Index: \", season_index)\n",
    "\n",
    "    player_key = grab_player_key(player_url)\n",
    "    for row_index in range(1, len(per_game_table_rows)):\n",
    "        row_element = per_game_table[row_index]\n",
    "\n",
    "        # check if the column is an aggregate Career row, in which case we skip\n",
    "        if row_element[age_column_index].text_content() == \"\":\n",
    "            continue\n",
    "\n",
    "        #Iterate through each element of the row\n",
    "        column_index = 0\n",
    "        for element in row_element:\n",
    "            data = element.text_content()\n",
    "\n",
    "            # format the season number to the last year\n",
    "            if column_index == season_index:\n",
    "                data = int(data[0:4]) + 1\n",
    "            else:\n",
    "                #Convert any numerical value to integers\n",
    "                try:\n",
    "                    data=int(data)\n",
    "                except:\n",
    "                    pass\n",
    "\n",
    "            per_game_cols[column_index][1].append(data)\n",
    "            column_index += 1 \n",
    "        \n",
    "        # add the player key to each column\n",
    "        per_game_cols[column_index][1].append(player_key)\n",
    "\n",
    "    Dict={title:column for (title,column) in per_game_cols}\n",
    "    df=pd.DataFrame(Dict)\n",
    "    \n",
    "    return df\n"
   ]
  },
  {
   "cell_type": "markdown",
   "metadata": {},
   "source": [
    "### Per Game Scraping - Example"
   ]
  },
  {
   "cell_type": "code",
   "execution_count": 2,
   "metadata": {},
   "outputs": [
    {
     "ename": "NameError",
     "evalue": "name 'create_per_game_dataframe' is not defined",
     "output_type": "error",
     "traceback": [
      "\u001b[1;31m---------------------------------------------------------------------------\u001b[0m",
      "\u001b[1;31mNameError\u001b[0m                                 Traceback (most recent call last)",
      "\u001b[1;32m<ipython-input-2-6d4a9150e989>\u001b[0m in \u001b[0;36m<module>\u001b[1;34m\u001b[0m\n\u001b[0;32m      1\u001b[0m \u001b[0murl\u001b[0m \u001b[1;33m=\u001b[0m \u001b[1;34m\"https://www.basketball-reference.com/players/a/antetgi01.html\"\u001b[0m\u001b[1;33m\u001b[0m\u001b[1;33m\u001b[0m\u001b[0m\n\u001b[1;32m----> 2\u001b[1;33m \u001b[0mcreate_per_game_dataframe\u001b[0m\u001b[1;33m(\u001b[0m\u001b[0murl\u001b[0m\u001b[1;33m)\u001b[0m\u001b[1;33m\u001b[0m\u001b[1;33m\u001b[0m\u001b[0m\n\u001b[0m",
      "\u001b[1;31mNameError\u001b[0m: name 'create_per_game_dataframe' is not defined"
     ]
    }
   ],
   "source": [
    "url = \"https://www.basketball-reference.com/players/a/antetgi01.html\"\n",
    "create_per_game_dataframe(url)"
   ]
  },
  {
   "cell_type": "code",
   "execution_count": null,
   "metadata": {},
   "outputs": [],
   "source": []
  }
 ],
 "metadata": {
  "kernelspec": {
   "display_name": "Python 3",
   "language": "python",
   "name": "python3"
  },
  "language_info": {
   "codemirror_mode": {
    "name": "ipython",
    "version": 3
   },
   "file_extension": ".py",
   "mimetype": "text/x-python",
   "name": "python",
   "nbconvert_exporter": "python",
   "pygments_lexer": "ipython3",
   "version": "3.8.5"
  }
 },
 "nbformat": 4,
 "nbformat_minor": 4
}
