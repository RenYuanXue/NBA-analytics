{
  "nbformat": 4,
  "nbformat_minor": 0,
  "metadata": {
    "colab": {
      "name": "ShortChartML.ipynb",
      "provenance": [],
      "collapsed_sections": [],
      "toc_visible": true,
      "machine_shape": "hm",
      "mount_file_id": "16v7nrql07WaY1wgHvdHwQuRPk6nEqD31",
      "authorship_tag": "ABX9TyNoz1GNcsjdTCWSj4TORcAo",
      "include_colab_link": true
    },
    "kernelspec": {
      "name": "python3",
      "display_name": "Python 3"
    }
  },
  "cells": [
    {
      "cell_type": "markdown",
      "metadata": {
        "id": "view-in-github",
        "colab_type": "text"
      },
      "source": [
        "<a href=\"https://colab.research.google.com/github/pmcwhannel/NBA-analytics/blob/main/ShortChartML.ipynb\" target=\"_parent\"><img src=\"https://colab.research.google.com/assets/colab-badge.svg\" alt=\"Open In Colab\"/></a>"
      ]
    },
    {
      "cell_type": "markdown",
      "metadata": {
        "id": "qAQf0GaaYjw9"
      },
      "source": [
        "### Load data"
      ]
    },
    {
      "cell_type": "code",
      "metadata": {
        "colab": {
          "base_uri": "https://localhost:8080/"
        },
        "id": "GuTKscFdPkeh",
        "outputId": "b6143c4e-250a-41ca-a42e-ce145c11ed3a"
      },
      "source": [
        "from google.colab import drive\n",
        "drive.mount('/content/drive')"
      ],
      "execution_count": 1,
      "outputs": [
        {
          "output_type": "stream",
          "text": [
            "Drive already mounted at /content/drive; to attempt to forcibly remount, call drive.mount(\"/content/drive\", force_remount=True).\n"
          ],
          "name": "stdout"
        }
      ]
    },
    {
      "cell_type": "code",
      "metadata": {
        "id": "h4q3b5FoPlj_"
      },
      "source": [
        "import timeit as tt\n",
        "shot_chart_path = '/content/drive/MyDrive/CS631-Project/all_shot_chart_data/part-00*'\n",
        "# [player key, qtr, make/miss, TOP_dist, LEFT_dist, time remaining, dist shot,\n",
        "# game score, players_team ,team_1=away, team_2=home, year] + [opponent]\n",
        "# Names of the variables for indexing.\n",
        "PK = 0   # Player Key\n",
        "QTR = 1  # Quarter\n",
        "SHOT = 2 # make/miss\n",
        "TD = 3   # distance from top (pixels)\n",
        "LD = 4   # distance from left (pixels)\n",
        "TR = 5   # time remaining\n",
        "DS = 6   # distance of shot from bucket (ft)\n",
        "GS = 7   # game score after the shot\n",
        "TM = 8   # This data will be changed from city name to 3-letter abreviation. To match AW and HM value.\n",
        "AW = 9   # Away team (3-letter abreviation)\n",
        "HM = 10  # Home team (3-letter abreviation)\n",
        "YR = 11  # Year (year the seasons ends in)\n",
        "OPP = 12 # This will be added later"
      ],
      "execution_count": 2,
      "outputs": []
    },
    {
      "cell_type": "markdown",
      "metadata": {
        "id": "V80fgJQWYlgA"
      },
      "source": [
        "### Setup Spark"
      ]
    },
    {
      "cell_type": "code",
      "metadata": {
        "colab": {
          "base_uri": "https://localhost:8080/"
        },
        "id": "B8SB3mUcYIXp",
        "outputId": "cf19bac5-3008-4f66-c6a0-019cdbfd14bf"
      },
      "source": [
        "%%shell\n",
        "apt-get update -qq > /dev/null\n",
        "apt-get install openjdk-8-jdk-headless -qq > /dev/null\n",
        "wget -q https://downloads.apache.org/spark/spark-2.4.7/spark-2.4.7-bin-hadoop2.7.tgz\n",
        "tar xf spark-2.4.7-bin-hadoop2.7.tgz\n",
        "pip install -q findspark"
      ],
      "execution_count": 3,
      "outputs": [
        {
          "output_type": "execute_result",
          "data": {
            "text/plain": [
              ""
            ]
          },
          "metadata": {
            "tags": []
          },
          "execution_count": 3
        }
      ]
    },
    {
      "cell_type": "code",
      "metadata": {
        "colab": {
          "base_uri": "https://localhost:8080/"
        },
        "id": "0Wws1OUtYq84",
        "outputId": "9822cfec-cac6-48ed-cc22-ec3aef0c5528"
      },
      "source": [
        "%%shell\n",
        "pip install --upgrade pip\n",
        "pip install lxml\n",
        "git clone https://github.com/pmcwhannel/NBA-analytics.git\n",
        "mv NBA-analytics NBAanalytics # So importing functions is easy"
      ],
      "execution_count": 4,
      "outputs": [
        {
          "output_type": "stream",
          "text": [
            "Requirement already satisfied: pip in /usr/local/lib/python3.6/dist-packages (20.3.1)\n",
            "Requirement already satisfied: lxml in /usr/local/lib/python3.6/dist-packages (4.2.6)\n",
            "Cloning into 'NBA-analytics'...\n",
            "remote: Enumerating objects: 41, done.\u001b[K\n",
            "remote: Counting objects: 100% (41/41), done.\u001b[K\n",
            "remote: Compressing objects: 100% (37/37), done.\u001b[K\n",
            "remote: Total 41 (delta 17), reused 14 (delta 3), pack-reused 0\u001b[K\n",
            "Unpacking objects: 100% (41/41), done.\n"
          ],
          "name": "stdout"
        },
        {
          "output_type": "execute_result",
          "data": {
            "text/plain": [
              ""
            ]
          },
          "metadata": {
            "tags": []
          },
          "execution_count": 4
        }
      ]
    },
    {
      "cell_type": "code",
      "metadata": {
        "id": "SFTAgwEWYucE"
      },
      "source": [
        "# Have to rename drive to get rid of NBA-analytics -> NBAanalytics\n",
        "import os\n",
        "os.environ[\"JAVA_HOME\"] = \"/usr/lib/jvm/java-8-openjdk-amd64\"\n",
        "os.environ[\"SPARK_HOME\"] = \"/content/spark-2.4.7-bin-hadoop2.7\"\n",
        "\n",
        "import findspark\n",
        "findspark.init()\n",
        "\n",
        "from pyspark import SparkContext\n",
        "sc = SparkContext(appName=\"YourTest\", master=\"local[*]\")"
      ],
      "execution_count": 5,
      "outputs": []
    },
    {
      "cell_type": "code",
      "metadata": {
        "id": "5ORkV1tU1C3k"
      },
      "source": [
        "# Read in shooter data\n",
        "def find_opp(x):\n",
        "  '''\n",
        "  Identify all shots against a single opposing team.\n",
        "  '''\n",
        "  if x[TM] == x[AW]: \n",
        "    opponent = x[HM] # home team is who shot is against\n",
        "  else:\n",
        "    opponent = x[AW] # away team is who shot is against\n",
        "\n",
        "  return x + [opponent]\n",
        "\n",
        "def ply_tm_2_abrv(shooter,tm_2_abrv):\n",
        "  '''\n",
        "  input ply_tm: the data of the shooter\n",
        "  input tm_2_abrv: linkage from PLAYER TEAM to 3-letter abreviation(s)\n",
        "  '''\n",
        "  if shooter[TM].upper() in tm_2_abrv.keys():\n",
        "    for abrv in tm_2_abrv[shooter[TM].upper()]: # {'PLAYER TEAM':[abrv,...,]}\n",
        "      if abrv == shooter[AW]:\n",
        "        temp = abrv\n",
        "        return shooter[:TM] + [temp] + shooter[TM+1:]\n",
        "      elif abrv == shooter[HM]:\n",
        "        temp = abrv\n",
        "        return shooter[:TM] + [temp] + shooter[TM+1:]\n",
        "    # didn't find a 3-letter abrv match\n",
        "    return shooter[:TM] + ['MISSING'] + shooter[TM+1:] \n",
        "  else:\n",
        "    # didn't find city name\n",
        "    return shooter[:TM] + ['UNKNOWN'] + shooter[TM+1:]"
      ],
      "execution_count": 6,
      "outputs": []
    },
    {
      "cell_type": "markdown",
      "metadata": {
        "id": "IbuDjRIjjJCM"
      },
      "source": [
        "### Add opponent shooting FG pct (Grid weighting)."
      ]
    },
    {
      "cell_type": "code",
      "metadata": {
        "id": "RjgOd9J8b6LN"
      },
      "source": [
        "# Team name as pulled from shot chart of shooter\n",
        "# and mapping to a list of the possible 3-letter abbreviations \n",
        "tm_2_abrv ={'ATLANTA':['ATL'],\n",
        "            'BOSTON':['BOS'],\n",
        "            'INDIANA':['IND'],\n",
        "            'CHICAGO':['CHI'],\n",
        "            'TORONTO':['TOR'],\n",
        "            'BROOKLYN':['BKN','BRK'],\n",
        "            'VANCOUVER':['VAN'],\n",
        "            'NEW YORK':['NYK'],\n",
        "            'HOUSTON':['HOU'],\n",
        "            'NEW ORLEANS':['NOP','NOH'],\n",
        "            'CHARLOTTE':['CHA','CHH','CHO'],\n",
        "            'DALLAS':['DAL'],\n",
        "            'GOLDEN STATE':['GSW'],\n",
        "            'OKLAHOMA CITY':['OKC'],\n",
        "            'CLEVELAND':['CLE'],\n",
        "            'LA CLIPPERS':['LAC'],\n",
        "            'DENVER':['DEN'],\n",
        "            'DETROIT':['DET'],\n",
        "            'HOUSTON':['HOU'],\n",
        "            'LA LAKERS':['LAL'],\n",
        "            'MINNESOTA':['MIN'],\n",
        "            'MEMPHIS':['MEM'],\n",
        "            'MILWAUKEE':['MIL'],\n",
        "            'MIAMI':['MIA'],\n",
        "            'ORLANDO':['ORL'],\n",
        "            'PHILADELPHIA':['PHI'],\n",
        "            'PORTLAND':['POR'],\n",
        "            'SACRAMENTO':['SAC'],\n",
        "            'TORONTO':['TOR'],\n",
        "            'SAN ANTONIO':['SAS'],\n",
        "            'UTAH':['UTA'],\n",
        "            'PHOENIX':['PHX','PHO'],\n",
        "            'WASHINGTON':['WSH','WSB','WAS'],\n",
        "            'SEATTLE':['SEA'],\n",
        "            'NEW ORLEANS/OKLAHOMA CITY':['NOK'],\n",
        "            'NEW ORLEANS/OKLAHOMA':['NOK'],\n",
        "            'NEW JERSEY':['NJN']\n",
        "            }"
      ],
      "execution_count": 7,
      "outputs": []
    },
    {
      "cell_type": "code",
      "metadata": {
        "colab": {
          "base_uri": "https://localhost:8080/"
        },
        "id": "WB8ZgIIoZ9gw",
        "outputId": "1bf2c8c3-cca2-41ef-baba-b6d7f1ffb8a1"
      },
      "source": [
        "start = tt.default_timer()\n",
        "rdd = sc.textFile(shot_chart_path).map(lambda x: x.split(',')).map(lambda x: ply_tm_2_abrv(x, tm_2_abrv)).map(lambda x: find_opp(x)).filter(lambda x: int(x[LD]) <= 500 and int(x[TD]) <= 472).cache()\n",
        "print(rdd.count())\n",
        "print('Time it took {}'.format(tt.default_timer() - start))\n",
        "# Number of shooters with a city match but not an abbreviation match: 449472 (Problems fixed)\n",
        "# Number of shooters without a city match at all: 113419 (Problems fixed)"
      ],
      "execution_count": 8,
      "outputs": [
        {
          "output_type": "stream",
          "text": [
            "4750345\n",
            "Time it took 22.292592416999923\n"
          ],
          "name": "stdout"
        }
      ]
    },
    {
      "cell_type": "code",
      "metadata": {
        "id": "ZibKo8Nhby7J"
      },
      "source": [
        "# Get only NOK for working on a subset of data # (13079 shots)\r\n",
        "small_rdd = rdd.filter(lambda x: x[OPP] == 'NOK').cache()"
      ],
      "execution_count": 9,
      "outputs": []
    },
    {
      "cell_type": "code",
      "metadata": {
        "id": "55cANhImBIW6"
      },
      "source": [
        "import math\r\n",
        "def normpdf(x, mean, sd):\r\n",
        "  # Calcualte 1-D gaussian\r\n",
        "  var = float(sd)**2\r\n",
        "  denom = (2*math.pi*var)**.5\r\n",
        "  num = math.exp(-(float(x)-float(mean))**2 / (2*var))\r\n",
        "  return num/denom\r\n",
        "\r\n",
        "def calc_distance(shooter, pos):\r\n",
        "  # Calculate distance between player and sample shot\r\n",
        "  # sqrt((x-x_i)**2 + (y-y_i)**2)\r\n",
        "  return ((int(shooter[LD]) - pos[0])**2 + (int(shooter[TD]) - pos[1])**2)**(0.5)\r\n",
        "\r\n",
        "def calc_opp_fg_pct(shooter,x):\r\n",
        "  d = calc_distance(shooter,(x[1],x[2]))\r\n",
        "  sd = 4   # THIS NEEDS TO BE TUNED MOST LIKELY\r\n",
        "  mean = 0 # THIS SHOULD REMAIN ZERO\r\n",
        "  weight = normpdf(d,mean,sd)\r\n",
        "  return (x[0], weight) # (make/miss, weight)\r\n",
        "\r\n",
        "def create_grid(x, nx, ny):\r\n",
        "  # nx: number of partitions to cut x into\r\n",
        "  # ny: number of partitions to cut y into\r\n",
        "\r\n",
        "  x_lim = 500 # horizontal pixel limit\r\n",
        "  y_lim = 472 # vertical pixel limit\r\n",
        "  x_size = 1 + x_lim // nx # number of pixels per x grid\r\n",
        "  y_size = 1 + y_lim // ny # number of pixels per y grid\r\n",
        "  avg_fg_pct = [] # [(make_total,miss_total,avg_fg),...m]\r\n",
        "\r\n",
        "  for i in range(0,ny):\r\n",
        "    avg_fg_pct.append([])\r\n",
        "    for j in range(0,nx):\r\n",
        "      avg_fg_pct[i].append([0,0,0])\r\n",
        "\r\n",
        "\r\n",
        "  for shot, x_pos, y_pos in x[1]:\r\n",
        "    xid = x_pos // x_size\r\n",
        "    yid = y_pos // y_size\r\n",
        "    print()\r\n",
        "    temp = avg_fg_pct[yid][xid]\r\n",
        "    if shot == 'make':\r\n",
        "      avg_fg_pct[yid][xid] =  [temp[0] + 1, temp[1], (temp[0] + 1) / (temp[0] + temp[1] + 1)]\r\n",
        "    else:\r\n",
        "      avg_fg_pct[yid][xid] = [temp[0], temp[1] + 1, temp[0] / (temp[0] + temp[1] + 1)]\r\n",
        "  return (x[0], avg_fg_pct)\r\n",
        "\r\n",
        "def add_opp_pct(x, nx, ny):\r\n",
        "  # Calculate shooting pct of players from shooter's position\r\n",
        "  #(key, ([shooter],[list of shots]))\r\n",
        "  # x[0] => shooter\r\n",
        "  # x[1] => list of shots\r\n",
        "  shooter = x[1][0]\r\n",
        "  x_lim = 500 # horizontal pixel limit\r\n",
        "  y_lim = 472 # vertical pixel limit\r\n",
        "  x_size = 1 + x_lim // nx # number of pixels per x grid\r\n",
        "  y_size = 1 + y_lim // ny # number of pixels per y grid\r\n",
        "\r\n",
        "  return shooter + [(x[1][1][int(shooter[TD]) // y_size][int(shooter[LD]) // x_size])[-1]]"
      ],
      "execution_count": 10,
      "outputs": []
    },
    {
      "cell_type": "code",
      "metadata": {
        "colab": {
          "base_uri": "https://localhost:8080/"
        },
        "id": "yyyBs7Gtorf4",
        "outputId": "2965a1ef-bd23-4190-cb20-ff0261e24b71"
      },
      "source": [
        "# Create list of shots against a team\r\n",
        "start = tt.default_timer()\r\n",
        "nx = 37\r\n",
        "ny = 36 \r\n",
        "# ('NOK2007', (make/miss, x, y))\r\n",
        "# Get rid of shots that are\r\n",
        "rdd_shot_against_all = rdd.map(lambda x: (x[OPP] + x[YR], [(x[SHOT], int(x[LD]), int(x[TD]))])).reduceByKey(lambda x,y:\r\n",
        "                        x+y).map(lambda x: create_grid(x, nx, ny)).cache() # [(key,[avg_fg_pct for each grid])] run time ~ 100 seconds\r\n",
        "\r\n",
        "# Add opposing FG pct to MJ data\r\n",
        "final_rdd = rdd.map(lambda x: (x[OPP] + x[YR],(x))).join(rdd_shot_against_all).map(lambda x:add_opp_pct(x, nx, ny)).cache()\r\n",
        "\r\n",
        "print('Size of final rdd: {}'.format(final_rdd.count()))\r\n",
        "print('It took {} to create the shooting history'.format(tt.default_timer() - start))"
      ],
      "execution_count": 11,
      "outputs": [
        {
          "output_type": "stream",
          "text": [
            "Size of final rdd: 4750345\n",
            "It took 112.31856945399977 to create the shooting history\n"
          ],
          "name": "stdout"
        }
      ]
    },
    {
      "cell_type": "markdown",
      "metadata": {
        "id": "QmzQdWw7-1UJ"
      },
      "source": [
        "#### Save to textFile"
      ]
    },
    {
      "cell_type": "code",
      "metadata": {
        "id": "LeRpGckY-xOH"
      },
      "source": [
        "final_rdd.map(lambda x: ','.join([str(itm) for itm in x])).saveAsTextFile('/content/drive/MyDrive/CS631-Project/' + 'all_shot_chart_data_opp_fg_pct_added_3736')\r\n"
      ],
      "execution_count": 12,
      "outputs": []
    },
    {
      "cell_type": "markdown",
      "metadata": {
        "id": "3UwKw1r7t6Ep"
      },
      "source": [
        "### Convert to Spark DataFrame\r\n",
        "\r\n",
        "    -join on player average data\r\n",
        "    -join on player metadata"
      ]
    },
    {
      "cell_type": "code",
      "metadata": {
        "id": "ONoxQ87Fte-_"
      },
      "source": [
        "# from pyspark.sql import SparkSession \n",
        "# import random \n",
        "# spark = SparkSession.builder.appName(\"YourTest\").master(\"local[*]\").config('spark.ui.port',\n",
        "#                             random.randrange(4000,5000)).getOrCreate()\n",
        "# sql_rdd = spark.read.csv(shot_chart_path)\n",
        "# shots = rdd.toDF(\"PlayerKey\",\"Qtr\",\"Shot\",\"TopDist\",\"LeftDist\",\"TimeRem\",\"ShotDist\",\"GmScore\",\"Team\",\"Away\",\"Home\",\"Year\").cache()\n",
        "# [player key, qtr, make/miss, TOP_dist, LEFT_dist, time remaining, dist shot,\n",
        "# game score, players_team ,team_1=away, team_2=home, year]"
      ],
      "execution_count": 13,
      "outputs": []
    },
    {
      "cell_type": "markdown",
      "metadata": {
        "id": "6XEMa_zMCERV"
      },
      "source": [
        "### ML + Data vis and analysis"
      ]
    },
    {
      "cell_type": "code",
      "metadata": {
        "colab": {
          "base_uri": "https://localhost:8080/"
        },
        "id": "kGVc6jPHAPeL",
        "outputId": "c209595d-5996-434b-8066-fdffae014410"
      },
      "source": [
        "shooter_data = []\r\n",
        "for i in range(0,20):\r\n",
        "  if i <= 9:\r\n",
        "    end_str = str(0) + str(i)\r\n",
        "  else:\r\n",
        "    end_str = str(i)\r\n",
        "  lines = open('/content/drive/MyDrive/CS631-Project/' + 'all_shot_chart_data_opp_fg_pct_added_3736/part-000' + end_str ).readlines()\r\n",
        "  \r\n",
        "  print('Reading in part-000{}'.format(end_str))\r\n",
        "  for line in lines:\r\n",
        "    shooter_data.append([feature.strip() for feature in line.split(',')])\r\n"
      ],
      "execution_count": 14,
      "outputs": [
        {
          "output_type": "stream",
          "text": [
            "Reading in part-00000\n",
            "Reading in part-00001\n",
            "Reading in part-00002\n",
            "Reading in part-00003\n",
            "Reading in part-00004\n",
            "Reading in part-00005\n",
            "Reading in part-00006\n",
            "Reading in part-00007\n",
            "Reading in part-00008\n",
            "Reading in part-00009\n",
            "Reading in part-00010\n",
            "Reading in part-00011\n",
            "Reading in part-00012\n",
            "Reading in part-00013\n",
            "Reading in part-00014\n",
            "Reading in part-00015\n",
            "Reading in part-00016\n",
            "Reading in part-00017\n",
            "Reading in part-00018\n",
            "Reading in part-00019\n"
          ],
          "name": "stdout"
        }
      ]
    },
    {
      "cell_type": "code",
      "metadata": {
        "id": "T0hVVmAdD9sK"
      },
      "source": [
        "import pandas as pd\r\n",
        "# Grab last 100,000 shots and make model\r\n",
        "recent_shooters = shooter_data[4003000:4005000]\r\n",
        "data = pd.DataFrame(recent_shooters, columns = ['PlayerKey','Quarter','FGM','TD','LD','TimeRemaining','Distance','GameScore','Team','Away','Home','Season','Opponent','OPPFGPct'])"
      ],
      "execution_count": 73,
      "outputs": []
    },
    {
      "cell_type": "code",
      "metadata": {
        "id": "35xsoyOcEXRy"
      },
      "source": [
        "data['FGM'] = data['FGM'].apply(lambda x: int(x=='make'))\r\n",
        "data['Distance'] = data['Distance'].apply(lambda x: int(x))\r\n",
        "data['OPPFGPct'] = data['OPPFGPct'].apply(lambda x: float(x))"
      ],
      "execution_count": 74,
      "outputs": []
    },
    {
      "cell_type": "markdown",
      "metadata": {
        "id": "1rjTYR7uFmPD"
      },
      "source": [
        "#### Data visualizations and analysis"
      ]
    },
    {
      "cell_type": "code",
      "metadata": {
        "id": "qdqaW7VQEYZk"
      },
      "source": [
        "import seaborn as sns\r\n",
        "import matplotlib.pyplot as plt\r\n",
        "\r\n"
      ],
      "execution_count": 75,
      "outputs": []
    },
    {
      "cell_type": "code",
      "metadata": {
        "colab": {
          "base_uri": "https://localhost:8080/",
          "height": 407
        },
        "id": "F2_WFL9aFYRj",
        "outputId": "3f5cf0ae-e5a4-44f7-c231-211a9798fa5c"
      },
      "source": [
        "fig = plt.figure(figsize=(20,20))\r\n",
        "sns.pairplot(data,hue='FGM')"
      ],
      "execution_count": 76,
      "outputs": [
        {
          "output_type": "execute_result",
          "data": {
            "text/plain": [
              "<seaborn.axisgrid.PairGrid at 0x7f966c570f98>"
            ]
          },
          "metadata": {
            "tags": []
          },
          "execution_count": 76
        },
        {
          "output_type": "display_data",
          "data": {
            "text/plain": [
              "<Figure size 1440x1440 with 0 Axes>"
            ]
          },
          "metadata": {
            "tags": []
          }
        },
        {
          "output_type": "display_data",
          "data": {
            "image/png": "[encoded data removed]",
            "text/plain": [
              "<Figure size 402.375x360 with 6 Axes>"
            ]
          },
          "metadata": {
            "tags": [],
            "needs_background": "light"
          }
        }
      ]
    },
    {
      "cell_type": "code",
      "metadata": {
        "colab": {
          "base_uri": "https://localhost:8080/"
        },
        "id": "8Pp7jbgLGabx",
        "outputId": "afa4150e-0f9b-4d8d-ac50-5b1a5c157305"
      },
      "source": [
        "print(500 // 37)\r\n",
        "500 % (1+(500//37))"
      ],
      "execution_count": 19,
      "outputs": [
        {
          "output_type": "stream",
          "text": [
            "13\n"
          ],
          "name": "stdout"
        },
        {
          "output_type": "execute_result",
          "data": {
            "text/plain": [
              "10"
            ]
          },
          "metadata": {
            "tags": []
          },
          "execution_count": 19
        }
      ]
    },
    {
      "cell_type": "code",
      "metadata": {
        "colab": {
          "base_uri": "https://localhost:8080/"
        },
        "id": "EOp6_a7MLL3s",
        "outputId": "1f4d0c67-3e82-4bfb-bee0-7861f519ce4f"
      },
      "source": [
        "print(472 // 36)\r\n",
        "472 % (1+(472//36))"
      ],
      "execution_count": 20,
      "outputs": [
        {
          "output_type": "stream",
          "text": [
            "13\n"
          ],
          "name": "stdout"
        },
        {
          "output_type": "execute_result",
          "data": {
            "text/plain": [
              "10"
            ]
          },
          "metadata": {
            "tags": []
          },
          "execution_count": 20
        }
      ]
    },
    {
      "cell_type": "code",
      "metadata": {
        "id": "nRTJifJOLigI"
      },
      "source": [
        ""
      ],
      "execution_count": 20,
      "outputs": []
    }
  ]
}
